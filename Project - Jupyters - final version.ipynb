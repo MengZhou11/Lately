{
 "cells": [
  {
   "cell_type": "markdown",
   "metadata": {},
   "source": [
    "# Getting data and making it ready for analysis"
   ]
  },
  {
   "cell_type": "code",
   "execution_count": 24,
   "metadata": {},
   "outputs": [],
   "source": [
    "import pandas as pd"
   ]
  },
  {
   "cell_type": "code",
   "execution_count": 25,
   "metadata": {},
   "outputs": [],
   "source": [
    "df=pd.read_csv('pdata.csv')#https://data.cityofnewyork.us/Health/DOHMH-New-York-City-Restaurant-Inspection-Results/43nn-pn8j"
   ]
  },
  {
   "cell_type": "code",
   "execution_count": 26,
   "metadata": {},
   "outputs": [],
   "source": [
    "import matplotlib.pyplot as plt\n",
    "import seaborn as sns"
   ]
  },
  {
   "cell_type": "code",
   "execution_count": 27,
   "metadata": {},
   "outputs": [],
   "source": [
    "grade_sub=df.dropna(subset=['GRADE'])"
   ]
  },
  {
   "cell_type": "code",
   "execution_count": 28,
   "metadata": {},
   "outputs": [],
   "source": [
    "import warnings\n",
    "warnings.simplefilter(action='ignore')"
   ]
  },
  {
   "cell_type": "code",
   "execution_count": 29,
   "metadata": {},
   "outputs": [],
   "source": [
    "grade_sub['GRADE']=grade_sub['GRADE'].replace('A', '7')\n",
    "grade_sub['GRADE']=grade_sub['GRADE'].replace('B', '6')\n",
    "grade_sub['GRADE']=grade_sub['GRADE'].replace('C', '5')\n",
    "grade_sub['GRADE']=grade_sub['GRADE'].replace('Z', '4')\n",
    "grade_sub['GRADE']=grade_sub['GRADE'].replace('P', '3')\n",
    "grade_sub['GRADE']=grade_sub['GRADE'].replace('N', '2')\n",
    "grade_sub['GRADE']=grade_sub['GRADE'].replace('G', '1')\n",
    "grade_sub['GRADE']=grade_sub['GRADE'].astype(int)"
   ]
  },
  {
   "cell_type": "code",
   "execution_count": null,
   "metadata": {},
   "outputs": [],
   "source": []
  },
  {
   "cell_type": "markdown",
   "metadata": {},
   "source": [
    "# General information on data"
   ]
  },
  {
   "cell_type": "code",
   "execution_count": 30,
   "metadata": {},
   "outputs": [],
   "source": [
    "popular_cuisine=df.groupby('CUISINE DESCRIPTION')['CUISINE DESCRIPTION'].agg(['count'])"
   ]
  },
  {
   "cell_type": "code",
   "execution_count": 31,
   "metadata": {
    "jupyter": {
     "outputs_hidden": true
    }
   },
   "outputs": [
    {
     "data": {
      "text/html": [
       "<div>\n",
       "<style scoped>\n",
       "    .dataframe tbody tr th:only-of-type {\n",
       "        vertical-align: middle;\n",
       "    }\n",
       "\n",
       "    .dataframe tbody tr th {\n",
       "        vertical-align: top;\n",
       "    }\n",
       "\n",
       "    .dataframe thead th {\n",
       "        text-align: right;\n",
       "    }\n",
       "</style>\n",
       "<table border=\"1\" class=\"dataframe\">\n",
       "  <thead>\n",
       "    <tr style=\"text-align: right;\">\n",
       "      <th></th>\n",
       "      <th>count</th>\n",
       "    </tr>\n",
       "    <tr>\n",
       "      <th>CUISINE DESCRIPTION</th>\n",
       "      <th></th>\n",
       "    </tr>\n",
       "  </thead>\n",
       "  <tbody>\n",
       "    <tr>\n",
       "      <th>American</th>\n",
       "      <td>83240</td>\n",
       "    </tr>\n",
       "    <tr>\n",
       "      <th>Chinese</th>\n",
       "      <td>42002</td>\n",
       "    </tr>\n",
       "    <tr>\n",
       "      <th>Café/Coffee/Tea</th>\n",
       "      <td>19192</td>\n",
       "    </tr>\n",
       "    <tr>\n",
       "      <th>Pizza</th>\n",
       "      <td>17449</td>\n",
       "    </tr>\n",
       "    <tr>\n",
       "      <th>Latin (Cuban, Dominican, Puerto Rican, South &amp; Central American)</th>\n",
       "      <td>17252</td>\n",
       "    </tr>\n",
       "  </tbody>\n",
       "</table>\n",
       "</div>"
      ],
      "text/plain": [
       "                                                    count\n",
       "CUISINE DESCRIPTION                                      \n",
       "American                                            83240\n",
       "Chinese                                             42002\n",
       "Café/Coffee/Tea                                     19192\n",
       "Pizza                                               17449\n",
       "Latin (Cuban, Dominican, Puerto Rican, South & ...  17252"
      ]
     },
     "execution_count": 31,
     "metadata": {},
     "output_type": "execute_result"
    }
   ],
   "source": [
    "popular_cuisine.sort_values(by=['count'],ascending=False).head(5)"
   ]
  },
  {
   "cell_type": "code",
   "execution_count": 32,
   "metadata": {
    "jupyter": {
     "outputs_hidden": true
    }
   },
   "outputs": [
    {
     "data": {
      "text/html": [
       "<div>\n",
       "<style scoped>\n",
       "    .dataframe tbody tr th:only-of-type {\n",
       "        vertical-align: middle;\n",
       "    }\n",
       "\n",
       "    .dataframe tbody tr th {\n",
       "        vertical-align: top;\n",
       "    }\n",
       "\n",
       "    .dataframe thead th {\n",
       "        text-align: right;\n",
       "    }\n",
       "</style>\n",
       "<table border=\"1\" class=\"dataframe\">\n",
       "  <thead>\n",
       "    <tr style=\"text-align: right;\">\n",
       "      <th></th>\n",
       "      <th>mean</th>\n",
       "      <th>count</th>\n",
       "      <th>std</th>\n",
       "    </tr>\n",
       "    <tr>\n",
       "      <th>CUISINE DESCRIPTION</th>\n",
       "      <th></th>\n",
       "      <th></th>\n",
       "      <th></th>\n",
       "    </tr>\n",
       "  </thead>\n",
       "  <tbody>\n",
       "    <tr>\n",
       "      <th>Czech</th>\n",
       "      <td>7.0</td>\n",
       "      <td>28</td>\n",
       "      <td>0.0</td>\n",
       "    </tr>\n",
       "    <tr>\n",
       "      <th>Basque</th>\n",
       "      <td>7.0</td>\n",
       "      <td>4</td>\n",
       "      <td>0.0</td>\n",
       "    </tr>\n",
       "    <tr>\n",
       "      <th>Nuts/Confectionary</th>\n",
       "      <td>7.0</td>\n",
       "      <td>24</td>\n",
       "      <td>0.0</td>\n",
       "    </tr>\n",
       "    <tr>\n",
       "      <th>Scandinavian</th>\n",
       "      <td>7.0</td>\n",
       "      <td>41</td>\n",
       "      <td>0.0</td>\n",
       "    </tr>\n",
       "    <tr>\n",
       "      <th>Soups</th>\n",
       "      <td>7.0</td>\n",
       "      <td>32</td>\n",
       "      <td>0.0</td>\n",
       "    </tr>\n",
       "  </tbody>\n",
       "</table>\n",
       "</div>"
      ],
      "text/plain": [
       "                     mean  count  std\n",
       "CUISINE DESCRIPTION                  \n",
       "Czech                 7.0     28  0.0\n",
       "Basque                7.0      4  0.0\n",
       "Nuts/Confectionary    7.0     24  0.0\n",
       "Scandinavian          7.0     41  0.0\n",
       "Soups                 7.0     32  0.0"
      ]
     },
     "execution_count": 32,
     "metadata": {},
     "output_type": "execute_result"
    }
   ],
   "source": [
    "grade_sub.groupby('CUISINE DESCRIPTION')['GRADE'].agg(['mean','count','std']).sort_values('mean',ascending=False).head(5)"
   ]
  },
  {
   "cell_type": "code",
   "execution_count": 33,
   "metadata": {
    "jupyter": {
     "outputs_hidden": true
    }
   },
   "outputs": [
    {
     "data": {
      "text/html": [
       "<div>\n",
       "<style scoped>\n",
       "    .dataframe tbody tr th:only-of-type {\n",
       "        vertical-align: middle;\n",
       "    }\n",
       "\n",
       "    .dataframe tbody tr th {\n",
       "        vertical-align: top;\n",
       "    }\n",
       "\n",
       "    .dataframe thead th {\n",
       "        text-align: right;\n",
       "    }\n",
       "</style>\n",
       "<table border=\"1\" class=\"dataframe\">\n",
       "  <thead>\n",
       "    <tr style=\"text-align: right;\">\n",
       "      <th></th>\n",
       "      <th>mean</th>\n",
       "      <th>count</th>\n",
       "      <th>std</th>\n",
       "    </tr>\n",
       "    <tr>\n",
       "      <th>BORO</th>\n",
       "      <th></th>\n",
       "      <th></th>\n",
       "      <th></th>\n",
       "    </tr>\n",
       "  </thead>\n",
       "  <tbody>\n",
       "    <tr>\n",
       "      <th>Staten Island</th>\n",
       "      <td>6.683814</td>\n",
       "      <td>6765</td>\n",
       "      <td>0.796269</td>\n",
       "    </tr>\n",
       "    <tr>\n",
       "      <th>Manhattan</th>\n",
       "      <td>6.635894</td>\n",
       "      <td>78219</td>\n",
       "      <td>0.862866</td>\n",
       "    </tr>\n",
       "    <tr>\n",
       "      <th>Queens</th>\n",
       "      <td>6.614701</td>\n",
       "      <td>46229</td>\n",
       "      <td>0.913507</td>\n",
       "    </tr>\n",
       "    <tr>\n",
       "      <th>Brooklyn</th>\n",
       "      <td>6.610028</td>\n",
       "      <td>50437</td>\n",
       "      <td>0.904697</td>\n",
       "    </tr>\n",
       "    <tr>\n",
       "      <th>Bronx</th>\n",
       "      <td>6.585610</td>\n",
       "      <td>18596</td>\n",
       "      <td>0.880145</td>\n",
       "    </tr>\n",
       "    <tr>\n",
       "      <th>0</th>\n",
       "      <td>6.562500</td>\n",
       "      <td>48</td>\n",
       "      <td>0.711793</td>\n",
       "    </tr>\n",
       "  </tbody>\n",
       "</table>\n",
       "</div>"
      ],
      "text/plain": [
       "                   mean  count       std\n",
       "BORO                                    \n",
       "Staten Island  6.683814   6765  0.796269\n",
       "Manhattan      6.635894  78219  0.862866\n",
       "Queens         6.614701  46229  0.913507\n",
       "Brooklyn       6.610028  50437  0.904697\n",
       "Bronx          6.585610  18596  0.880145\n",
       "0              6.562500     48  0.711793"
      ]
     },
     "execution_count": 33,
     "metadata": {},
     "output_type": "execute_result"
    }
   ],
   "source": [
    "grade_sub.groupby('BORO')['GRADE'].agg(['mean','count','std']).sort_values('mean',ascending=False)"
   ]
  },
  {
   "cell_type": "code",
   "execution_count": 34,
   "metadata": {},
   "outputs": [],
   "source": [
    "inspection_grades=df.groupby('GRADE')['GRADE'].agg(['count'])"
   ]
  },
  {
   "cell_type": "code",
   "execution_count": 35,
   "metadata": {
    "jupyter": {
     "outputs_hidden": true
    }
   },
   "outputs": [
    {
     "data": {
      "text/html": [
       "<div>\n",
       "<style scoped>\n",
       "    .dataframe tbody tr th:only-of-type {\n",
       "        vertical-align: middle;\n",
       "    }\n",
       "\n",
       "    .dataframe tbody tr th {\n",
       "        vertical-align: top;\n",
       "    }\n",
       "\n",
       "    .dataframe thead th {\n",
       "        text-align: right;\n",
       "    }\n",
       "</style>\n",
       "<table border=\"1\" class=\"dataframe\">\n",
       "  <thead>\n",
       "    <tr style=\"text-align: right;\">\n",
       "      <th></th>\n",
       "      <th>count</th>\n",
       "    </tr>\n",
       "    <tr>\n",
       "      <th>GRADE</th>\n",
       "      <th></th>\n",
       "    </tr>\n",
       "  </thead>\n",
       "  <tbody>\n",
       "    <tr>\n",
       "      <th>A</th>\n",
       "      <td>157248</td>\n",
       "    </tr>\n",
       "    <tr>\n",
       "      <th>B</th>\n",
       "      <td>24932</td>\n",
       "    </tr>\n",
       "    <tr>\n",
       "      <th>C</th>\n",
       "      <td>9289</td>\n",
       "    </tr>\n",
       "    <tr>\n",
       "      <th>Z</th>\n",
       "      <td>4571</td>\n",
       "    </tr>\n",
       "    <tr>\n",
       "      <th>P</th>\n",
       "      <td>2671</td>\n",
       "    </tr>\n",
       "    <tr>\n",
       "      <th>N</th>\n",
       "      <td>1578</td>\n",
       "    </tr>\n",
       "    <tr>\n",
       "      <th>G</th>\n",
       "      <td>5</td>\n",
       "    </tr>\n",
       "  </tbody>\n",
       "</table>\n",
       "</div>"
      ],
      "text/plain": [
       "        count\n",
       "GRADE        \n",
       "A      157248\n",
       "B       24932\n",
       "C        9289\n",
       "Z        4571\n",
       "P        2671\n",
       "N        1578\n",
       "G           5"
      ]
     },
     "execution_count": 35,
     "metadata": {},
     "output_type": "execute_result"
    }
   ],
   "source": [
    "inspection_grades.sort_values(by=['count'],ascending=False)"
   ]
  },
  {
   "cell_type": "code",
   "execution_count": 36,
   "metadata": {
    "jupyter": {
     "outputs_hidden": true
    }
   },
   "outputs": [
    {
     "data": {
      "text/plain": [
       "196071"
      ]
     },
     "execution_count": 36,
     "metadata": {},
     "output_type": "execute_result"
    }
   ],
   "source": [
    "df['GRADE'].isna().sum()"
   ]
  },
  {
   "cell_type": "code",
   "execution_count": 37,
   "metadata": {
    "jupyter": {
     "outputs_hidden": true
    }
   },
   "outputs": [
    {
     "data": {
      "text/plain": [
       "200294"
      ]
     },
     "execution_count": 37,
     "metadata": {},
     "output_type": "execute_result"
    }
   ],
   "source": [
    "df['GRADE'].count()"
   ]
  },
  {
   "cell_type": "code",
   "execution_count": 38,
   "metadata": {
    "jupyter": {
     "outputs_hidden": true
    }
   },
   "outputs": [
    {
     "data": {
      "text/html": [
       "<div>\n",
       "<style scoped>\n",
       "    .dataframe tbody tr th:only-of-type {\n",
       "        vertical-align: middle;\n",
       "    }\n",
       "\n",
       "    .dataframe tbody tr th {\n",
       "        vertical-align: top;\n",
       "    }\n",
       "\n",
       "    .dataframe thead th {\n",
       "        text-align: right;\n",
       "    }\n",
       "</style>\n",
       "<table border=\"1\" class=\"dataframe\">\n",
       "  <thead>\n",
       "    <tr style=\"text-align: right;\">\n",
       "      <th></th>\n",
       "      <th>count</th>\n",
       "    </tr>\n",
       "    <tr>\n",
       "      <th>VIOLATION DESCRIPTION</th>\n",
       "      <th></th>\n",
       "    </tr>\n",
       "  </thead>\n",
       "  <tbody>\n",
       "    <tr>\n",
       "      <th>Non-food contact surface improperly constructed. Unacceptable material used. Non-food contact surface or equipment improperly maintained and/or not properly sealed, raised, spaced or movable to allow accessibility for cleaning on all sides, above and underneath the unit.</th>\n",
       "      <td>55840</td>\n",
       "    </tr>\n",
       "    <tr>\n",
       "      <th>Facility not vermin proof. Harborage or conditions conducive to attracting vermin to the premises and/or allowing vermin to exist.</th>\n",
       "      <td>44003</td>\n",
       "    </tr>\n",
       "    <tr>\n",
       "      <th>Evidence of mice or live mice present in facility's food and/or non-food areas.</th>\n",
       "      <td>29131</td>\n",
       "    </tr>\n",
       "    <tr>\n",
       "      <th>Food contact surface not properly washed, rinsed and sanitized after each use and following any activity when contamination may have occurred.</th>\n",
       "      <td>27134</td>\n",
       "    </tr>\n",
       "    <tr>\n",
       "      <th>Food not protected from potential source of contamination during storage, preparation, transportation, display or service.</th>\n",
       "      <td>24490</td>\n",
       "    </tr>\n",
       "  </tbody>\n",
       "</table>\n",
       "</div>"
      ],
      "text/plain": [
       "                                                    count\n",
       "VIOLATION DESCRIPTION                                    \n",
       "Non-food contact surface improperly constructed...  55840\n",
       "Facility not vermin proof. Harborage or conditi...  44003\n",
       "Evidence of mice or live mice present in facili...  29131\n",
       "Food contact surface not properly washed, rinse...  27134\n",
       "Food not protected from potential source of con...  24490"
      ]
     },
     "execution_count": 38,
     "metadata": {},
     "output_type": "execute_result"
    }
   ],
   "source": [
    "violation=df.groupby('VIOLATION DESCRIPTION')['VIOLATION DESCRIPTION'].agg(['count']).sort_values(by=['count'],ascending=False)\n",
    "violation.head(5)"
   ]
  },
  {
   "cell_type": "code",
   "execution_count": 39,
   "metadata": {
    "jupyter": {
     "outputs_hidden": true
    }
   },
   "outputs": [
    {
     "data": {
      "text/plain": [
       "0    Evidence of mice or live mice present in facil...\n",
       "1    Cold food item held above 41º F (smoked fish a...\n",
       "2    Facility not vermin proof. Harborage or condit...\n",
       "3    Raw, cooked or prepared food is adulterated, c...\n",
       "4    Plumbing not properly installed or maintained;...\n",
       "Name: VIOLATION DESCRIPTION, dtype: object"
      ]
     },
     "execution_count": 39,
     "metadata": {},
     "output_type": "execute_result"
    }
   ],
   "source": [
    "vd=df['VIOLATION DESCRIPTION'].dropna()\n",
    "vd.head(5)"
   ]
  },
  {
   "cell_type": "code",
   "execution_count": 40,
   "metadata": {},
   "outputs": [],
   "source": [
    "violation_t = []\n",
    "for i in vd:\n",
    "    for k in i.split(\".\"):\n",
    "        if k:\n",
    "            violation_t.append(k)"
   ]
  },
  {
   "cell_type": "code",
   "execution_count": 41,
   "metadata": {
    "jupyter": {
     "outputs_hidden": true
    }
   },
   "outputs": [
    {
     "data": {
      "text/html": [
       "<div>\n",
       "<style scoped>\n",
       "    .dataframe tbody tr th:only-of-type {\n",
       "        vertical-align: middle;\n",
       "    }\n",
       "\n",
       "    .dataframe tbody tr th {\n",
       "        vertical-align: top;\n",
       "    }\n",
       "\n",
       "    .dataframe thead th {\n",
       "        text-align: right;\n",
       "    }\n",
       "</style>\n",
       "<table border=\"1\" class=\"dataframe\">\n",
       "  <thead>\n",
       "    <tr style=\"text-align: right;\">\n",
       "      <th></th>\n",
       "      <th>Violation Comment</th>\n",
       "    </tr>\n",
       "  </thead>\n",
       "  <tbody>\n",
       "    <tr>\n",
       "      <th>0</th>\n",
       "      <td>Evidence of mice or live mice present in facil...</td>\n",
       "    </tr>\n",
       "    <tr>\n",
       "      <th>1</th>\n",
       "      <td>Cold food item held above 41º F (smoked fish a...</td>\n",
       "    </tr>\n",
       "    <tr>\n",
       "      <th>2</th>\n",
       "      <td>Facility not vermin proof</td>\n",
       "    </tr>\n",
       "    <tr>\n",
       "      <th>3</th>\n",
       "      <td>Harborage or conditions conducive to attracti...</td>\n",
       "    </tr>\n",
       "    <tr>\n",
       "      <th>4</th>\n",
       "      <td>Raw, cooked or prepared food is adulterated, c...</td>\n",
       "    </tr>\n",
       "  </tbody>\n",
       "</table>\n",
       "</div>"
      ],
      "text/plain": [
       "                                   Violation Comment\n",
       "0  Evidence of mice or live mice present in facil...\n",
       "1  Cold food item held above 41º F (smoked fish a...\n",
       "2                          Facility not vermin proof\n",
       "3   Harborage or conditions conducive to attracti...\n",
       "4  Raw, cooked or prepared food is adulterated, c..."
      ]
     },
     "execution_count": 41,
     "metadata": {},
     "output_type": "execute_result"
    }
   ],
   "source": [
    "violation_df=pd.DataFrame(violation_t, columns=['Violation Comment'])\n",
    "violation_df.head(5)"
   ]
  },
  {
   "cell_type": "code",
   "execution_count": 42,
   "metadata": {
    "jupyter": {
     "outputs_hidden": true
    }
   },
   "outputs": [
    {
     "data": {
      "text/html": [
       "<div>\n",
       "<style scoped>\n",
       "    .dataframe tbody tr th:only-of-type {\n",
       "        vertical-align: middle;\n",
       "    }\n",
       "\n",
       "    .dataframe tbody tr th {\n",
       "        vertical-align: top;\n",
       "    }\n",
       "\n",
       "    .dataframe thead th {\n",
       "        text-align: right;\n",
       "    }\n",
       "</style>\n",
       "<table border=\"1\" class=\"dataframe\">\n",
       "  <thead>\n",
       "    <tr style=\"text-align: right;\">\n",
       "      <th></th>\n",
       "      <th>count</th>\n",
       "    </tr>\n",
       "    <tr>\n",
       "      <th>Violation Comment</th>\n",
       "      <th></th>\n",
       "    </tr>\n",
       "  </thead>\n",
       "  <tbody>\n",
       "    <tr>\n",
       "      <th>Unacceptable material used</th>\n",
       "      <td>56380</td>\n",
       "    </tr>\n",
       "    <tr>\n",
       "      <th>Non-food contact surface or equipment improperly maintained and/or not properly sealed, raised, spaced or movable to allow accessibility for cleaning on all sides, above and underneath the unit</th>\n",
       "      <td>55840</td>\n",
       "    </tr>\n",
       "    <tr>\n",
       "      <th>Non-food contact surface improperly constructed</th>\n",
       "      <td>55840</td>\n",
       "    </tr>\n",
       "    <tr>\n",
       "      <th>Facility not vermin proof</th>\n",
       "      <td>44003</td>\n",
       "    </tr>\n",
       "    <tr>\n",
       "      <th>Harborage or conditions conducive to attracting vermin to the premises and/or allowing vermin to exist</th>\n",
       "      <td>44003</td>\n",
       "    </tr>\n",
       "  </tbody>\n",
       "</table>\n",
       "</div>"
      ],
      "text/plain": [
       "                                                    count\n",
       "Violation Comment                                        \n",
       " Unacceptable material used                         56380\n",
       " Non-food contact surface or equipment improper...  55840\n",
       "Non-food contact surface improperly constructed     55840\n",
       "Facility not vermin proof                           44003\n",
       " Harborage or conditions conducive to attractin...  44003"
      ]
     },
     "execution_count": 42,
     "metadata": {},
     "output_type": "execute_result"
    }
   ],
   "source": [
    "violation_df.groupby('Violation Comment')['Violation Comment'].agg(['count']).sort_values(by=['count'],ascending=False).head(5)"
   ]
  },
  {
   "cell_type": "code",
   "execution_count": 43,
   "metadata": {},
   "outputs": [
    {
     "data": {
      "text/html": [
       "<div>\n",
       "<style scoped>\n",
       "    .dataframe tbody tr th:only-of-type {\n",
       "        vertical-align: middle;\n",
       "    }\n",
       "\n",
       "    .dataframe tbody tr th {\n",
       "        vertical-align: top;\n",
       "    }\n",
       "\n",
       "    .dataframe thead th {\n",
       "        text-align: right;\n",
       "    }\n",
       "</style>\n",
       "<table border=\"1\" class=\"dataframe\">\n",
       "  <thead>\n",
       "    <tr style=\"text-align: right;\">\n",
       "      <th></th>\n",
       "      <th>count</th>\n",
       "    </tr>\n",
       "    <tr>\n",
       "      <th>BORO</th>\n",
       "      <th></th>\n",
       "    </tr>\n",
       "  </thead>\n",
       "  <tbody>\n",
       "    <tr>\n",
       "      <th>Manhattan</th>\n",
       "      <td>155742</td>\n",
       "    </tr>\n",
       "    <tr>\n",
       "      <th>Brooklyn</th>\n",
       "      <td>100828</td>\n",
       "    </tr>\n",
       "    <tr>\n",
       "      <th>Queens</th>\n",
       "      <td>90641</td>\n",
       "    </tr>\n",
       "    <tr>\n",
       "      <th>Bronx</th>\n",
       "      <td>35898</td>\n",
       "    </tr>\n",
       "    <tr>\n",
       "      <th>Staten Island</th>\n",
       "      <td>13144</td>\n",
       "    </tr>\n",
       "    <tr>\n",
       "      <th>0</th>\n",
       "      <td>112</td>\n",
       "    </tr>\n",
       "  </tbody>\n",
       "</table>\n",
       "</div>"
      ],
      "text/plain": [
       "                count\n",
       "BORO                 \n",
       "Manhattan      155742\n",
       "Brooklyn       100828\n",
       "Queens          90641\n",
       "Bronx           35898\n",
       "Staten Island   13144\n",
       "0                 112"
      ]
     },
     "execution_count": 43,
     "metadata": {},
     "output_type": "execute_result"
    }
   ],
   "source": [
    "df.groupby('BORO')['BORO'].agg(['count']).sort_values(by=['count'],ascending=False)"
   ]
  },
  {
   "cell_type": "code",
   "execution_count": 132,
   "metadata": {},
   "outputs": [
    {
     "data": {
      "image/png": "[encoded data removed]",
      "text/plain": [
       "<Figure size 432x288 with 1 Axes>"
      ]
     },
     "metadata": {
      "needs_background": "light"
     },
     "output_type": "display_data"
    }
   ],
   "source": [
    "ax = bp[['count']].plot(kind='bar', title =\"Number of restaurants per borough\",  legend=True, fontsize=15)\n",
    "ax.set_xlabel(\"Borough\", fontsize=15)\n",
    "ax.set_ylabel(\"Number of restaurants\", fontsize=15)\n",
    "plt.show()"
   ]
  },
  {
   "cell_type": "code",
   "execution_count": null,
   "metadata": {},
   "outputs": [],
   "source": []
  },
  {
   "cell_type": "markdown",
   "metadata": {},
   "source": [
    "# Analysis of Manhattan"
   ]
  },
  {
   "cell_type": "code",
   "execution_count": 45,
   "metadata": {},
   "outputs": [],
   "source": [
    "manhattan_df=df.loc[df['BORO']=='Manhattan']"
   ]
  },
  {
   "cell_type": "code",
   "execution_count": 46,
   "metadata": {
    "jupyter": {
     "outputs_hidden": true
    }
   },
   "outputs": [
    {
     "data": {
      "text/html": [
       "<div>\n",
       "<style scoped>\n",
       "    .dataframe tbody tr th:only-of-type {\n",
       "        vertical-align: middle;\n",
       "    }\n",
       "\n",
       "    .dataframe tbody tr th {\n",
       "        vertical-align: top;\n",
       "    }\n",
       "\n",
       "    .dataframe thead th {\n",
       "        text-align: right;\n",
       "    }\n",
       "</style>\n",
       "<table border=\"1\" class=\"dataframe\">\n",
       "  <thead>\n",
       "    <tr style=\"text-align: right;\">\n",
       "      <th></th>\n",
       "      <th>Manhattan</th>\n",
       "    </tr>\n",
       "    <tr>\n",
       "      <th>CUISINE DESCRIPTION</th>\n",
       "      <th></th>\n",
       "    </tr>\n",
       "  </thead>\n",
       "  <tbody>\n",
       "    <tr>\n",
       "      <th>American</th>\n",
       "      <td>43039</td>\n",
       "    </tr>\n",
       "    <tr>\n",
       "      <th>Chinese</th>\n",
       "      <td>10778</td>\n",
       "    </tr>\n",
       "    <tr>\n",
       "      <th>Café/Coffee/Tea</th>\n",
       "      <td>10186</td>\n",
       "    </tr>\n",
       "    <tr>\n",
       "      <th>Italian</th>\n",
       "      <td>9525</td>\n",
       "    </tr>\n",
       "    <tr>\n",
       "      <th>Japanese</th>\n",
       "      <td>7799</td>\n",
       "    </tr>\n",
       "  </tbody>\n",
       "</table>\n",
       "</div>"
      ],
      "text/plain": [
       "                     Manhattan\n",
       "CUISINE DESCRIPTION           \n",
       "American                 43039\n",
       "Chinese                  10778\n",
       "Café/Coffee/Tea          10186\n",
       "Italian                   9525\n",
       "Japanese                  7799"
      ]
     },
     "execution_count": 46,
     "metadata": {},
     "output_type": "execute_result"
    }
   ],
   "source": [
    "a=manhattan_df.groupby('CUISINE DESCRIPTION')['CUISINE DESCRIPTION'].agg(['count']).sort_values(by=['count'],ascending=False)\n",
    "a=a.rename(columns={'count':'Manhattan'})\n",
    "a.head(5)"
   ]
  },
  {
   "cell_type": "code",
   "execution_count": 47,
   "metadata": {
    "jupyter": {
     "outputs_hidden": true
    }
   },
   "outputs": [
    {
     "data": {
      "text/html": [
       "<div>\n",
       "<style scoped>\n",
       "    .dataframe tbody tr th:only-of-type {\n",
       "        vertical-align: middle;\n",
       "    }\n",
       "\n",
       "    .dataframe tbody tr th {\n",
       "        vertical-align: top;\n",
       "    }\n",
       "\n",
       "    .dataframe thead th {\n",
       "        text-align: right;\n",
       "    }\n",
       "</style>\n",
       "<table border=\"1\" class=\"dataframe\">\n",
       "  <thead>\n",
       "    <tr style=\"text-align: right;\">\n",
       "      <th></th>\n",
       "      <th>Manhattan</th>\n",
       "    </tr>\n",
       "    <tr>\n",
       "      <th>GRADE</th>\n",
       "      <th></th>\n",
       "    </tr>\n",
       "  </thead>\n",
       "  <tbody>\n",
       "    <tr>\n",
       "      <th>A</th>\n",
       "      <td>62003</td>\n",
       "    </tr>\n",
       "    <tr>\n",
       "      <th>B</th>\n",
       "      <td>9229</td>\n",
       "    </tr>\n",
       "    <tr>\n",
       "      <th>C</th>\n",
       "      <td>3707</td>\n",
       "    </tr>\n",
       "    <tr>\n",
       "      <th>Z</th>\n",
       "      <td>1805</td>\n",
       "    </tr>\n",
       "    <tr>\n",
       "      <th>P</th>\n",
       "      <td>956</td>\n",
       "    </tr>\n",
       "    <tr>\n",
       "      <th>N</th>\n",
       "      <td>516</td>\n",
       "    </tr>\n",
       "    <tr>\n",
       "      <th>G</th>\n",
       "      <td>3</td>\n",
       "    </tr>\n",
       "  </tbody>\n",
       "</table>\n",
       "</div>"
      ],
      "text/plain": [
       "       Manhattan\n",
       "GRADE           \n",
       "A          62003\n",
       "B           9229\n",
       "C           3707\n",
       "Z           1805\n",
       "P            956\n",
       "N            516\n",
       "G              3"
      ]
     },
     "execution_count": 47,
     "metadata": {},
     "output_type": "execute_result"
    }
   ],
   "source": [
    "grade_a=manhattan_df.groupby('GRADE')['GRADE'].agg(['count']).sort_values(by=['count'],ascending=False)\n",
    "grade_a=grade_a.rename(columns={'count':'Manhattan'})\n",
    "grade_a"
   ]
  },
  {
   "cell_type": "code",
   "execution_count": 48,
   "metadata": {
    "jupyter": {
     "outputs_hidden": true
    }
   },
   "outputs": [
    {
     "data": {
      "text/plain": [
       "77523"
      ]
     },
     "execution_count": 48,
     "metadata": {},
     "output_type": "execute_result"
    }
   ],
   "source": [
    "manhattan_df['GRADE'].isna().sum()"
   ]
  },
  {
   "cell_type": "code",
   "execution_count": 49,
   "metadata": {},
   "outputs": [],
   "source": [
    "vd_m=manhattan_df['VIOLATION DESCRIPTION'].dropna()"
   ]
  },
  {
   "cell_type": "code",
   "execution_count": 50,
   "metadata": {},
   "outputs": [],
   "source": [
    "violation_m = []\n",
    "for i in vd_m:\n",
    "    for k in i.split(\".\"):\n",
    "        if k:\n",
    "            violation_m.append(k)"
   ]
  },
  {
   "cell_type": "code",
   "execution_count": 51,
   "metadata": {},
   "outputs": [],
   "source": [
    "violation_manhattan=pd.DataFrame(violation_m, columns=['Violation Comment'])"
   ]
  },
  {
   "cell_type": "code",
   "execution_count": 52,
   "metadata": {
    "jupyter": {
     "outputs_hidden": true
    }
   },
   "outputs": [
    {
     "data": {
      "text/html": [
       "<div>\n",
       "<style scoped>\n",
       "    .dataframe tbody tr th:only-of-type {\n",
       "        vertical-align: middle;\n",
       "    }\n",
       "\n",
       "    .dataframe tbody tr th {\n",
       "        vertical-align: top;\n",
       "    }\n",
       "\n",
       "    .dataframe thead th {\n",
       "        text-align: right;\n",
       "    }\n",
       "</style>\n",
       "<table border=\"1\" class=\"dataframe\">\n",
       "  <thead>\n",
       "    <tr style=\"text-align: right;\">\n",
       "      <th></th>\n",
       "      <th>Manhattan</th>\n",
       "    </tr>\n",
       "    <tr>\n",
       "      <th>Violation Comment</th>\n",
       "      <th></th>\n",
       "    </tr>\n",
       "  </thead>\n",
       "  <tbody>\n",
       "    <tr>\n",
       "      <th>Unacceptable material used</th>\n",
       "      <td>22014</td>\n",
       "    </tr>\n",
       "    <tr>\n",
       "      <th>Non-food contact surface improperly constructed</th>\n",
       "      <td>21840</td>\n",
       "    </tr>\n",
       "    <tr>\n",
       "      <th>Non-food contact surface or equipment improperly maintained and/or not properly sealed, raised, spaced or movable to allow accessibility for cleaning on all sides, above and underneath the unit</th>\n",
       "      <td>21840</td>\n",
       "    </tr>\n",
       "    <tr>\n",
       "      <th>Harborage or conditions conducive to attracting vermin to the premises and/or allowing vermin to exist</th>\n",
       "      <td>17021</td>\n",
       "    </tr>\n",
       "    <tr>\n",
       "      <th>Facility not vermin proof</th>\n",
       "      <td>17021</td>\n",
       "    </tr>\n",
       "  </tbody>\n",
       "</table>\n",
       "</div>"
      ],
      "text/plain": [
       "                                                    Manhattan\n",
       "Violation Comment                                            \n",
       " Unacceptable material used                             22014\n",
       "Non-food contact surface improperly constructed         21840\n",
       " Non-food contact surface or equipment improper...      21840\n",
       " Harborage or conditions conducive to attractin...      17021\n",
       "Facility not vermin proof                               17021"
      ]
     },
     "execution_count": 52,
     "metadata": {},
     "output_type": "execute_result"
    }
   ],
   "source": [
    "va=violation_manhattan.groupby('Violation Comment')['Violation Comment'].agg(['count']).sort_values(by=['count'],ascending=False)\n",
    "va=va.rename(columns={'count':'Manhattan'})\n",
    "va.head(5)"
   ]
  },
  {
   "cell_type": "markdown",
   "metadata": {},
   "source": [
    "# Analysis of Brooklyn"
   ]
  },
  {
   "cell_type": "code",
   "execution_count": 53,
   "metadata": {},
   "outputs": [],
   "source": [
    "brooklyn_df=df.loc[df['BORO']=='Brooklyn']"
   ]
  },
  {
   "cell_type": "code",
   "execution_count": 54,
   "metadata": {
    "jupyter": {
     "outputs_hidden": true
    }
   },
   "outputs": [
    {
     "data": {
      "text/html": [
       "<div>\n",
       "<style scoped>\n",
       "    .dataframe tbody tr th:only-of-type {\n",
       "        vertical-align: middle;\n",
       "    }\n",
       "\n",
       "    .dataframe tbody tr th {\n",
       "        vertical-align: top;\n",
       "    }\n",
       "\n",
       "    .dataframe thead th {\n",
       "        text-align: right;\n",
       "    }\n",
       "</style>\n",
       "<table border=\"1\" class=\"dataframe\">\n",
       "  <thead>\n",
       "    <tr style=\"text-align: right;\">\n",
       "      <th></th>\n",
       "      <th>count</th>\n",
       "    </tr>\n",
       "    <tr>\n",
       "      <th>CUISINE DESCRIPTION</th>\n",
       "      <th></th>\n",
       "    </tr>\n",
       "  </thead>\n",
       "  <tbody>\n",
       "    <tr>\n",
       "      <th>American</th>\n",
       "      <td>18277</td>\n",
       "    </tr>\n",
       "    <tr>\n",
       "      <th>Chinese</th>\n",
       "      <td>12627</td>\n",
       "    </tr>\n",
       "    <tr>\n",
       "      <th>Caribbean</th>\n",
       "      <td>7133</td>\n",
       "    </tr>\n",
       "    <tr>\n",
       "      <th>Café/Coffee/Tea</th>\n",
       "      <td>5334</td>\n",
       "    </tr>\n",
       "    <tr>\n",
       "      <th>Mexican</th>\n",
       "      <td>4909</td>\n",
       "    </tr>\n",
       "  </tbody>\n",
       "</table>\n",
       "</div>"
      ],
      "text/plain": [
       "                     count\n",
       "CUISINE DESCRIPTION       \n",
       "American             18277\n",
       "Chinese              12627\n",
       "Caribbean             7133\n",
       "Café/Coffee/Tea       5334\n",
       "Mexican               4909"
      ]
     },
     "execution_count": 54,
     "metadata": {},
     "output_type": "execute_result"
    }
   ],
   "source": [
    "b=brooklyn_df.groupby('CUISINE DESCRIPTION')['CUISINE DESCRIPTION'].agg(['count']).sort_values(by=['count'],ascending=False)\n",
    "b.head(5)"
   ]
  },
  {
   "cell_type": "code",
   "execution_count": 55,
   "metadata": {
    "jupyter": {
     "outputs_hidden": true
    }
   },
   "outputs": [
    {
     "data": {
      "text/html": [
       "<div>\n",
       "<style scoped>\n",
       "    .dataframe tbody tr th:only-of-type {\n",
       "        vertical-align: middle;\n",
       "    }\n",
       "\n",
       "    .dataframe tbody tr th {\n",
       "        vertical-align: top;\n",
       "    }\n",
       "\n",
       "    .dataframe thead th {\n",
       "        text-align: right;\n",
       "    }\n",
       "</style>\n",
       "<table border=\"1\" class=\"dataframe\">\n",
       "  <thead>\n",
       "    <tr style=\"text-align: right;\">\n",
       "      <th></th>\n",
       "      <th>count</th>\n",
       "    </tr>\n",
       "    <tr>\n",
       "      <th>GRADE</th>\n",
       "      <th></th>\n",
       "    </tr>\n",
       "  </thead>\n",
       "  <tbody>\n",
       "    <tr>\n",
       "      <th>A</th>\n",
       "      <td>39302</td>\n",
       "    </tr>\n",
       "    <tr>\n",
       "      <th>B</th>\n",
       "      <td>6577</td>\n",
       "    </tr>\n",
       "    <tr>\n",
       "      <th>C</th>\n",
       "      <td>2266</td>\n",
       "    </tr>\n",
       "    <tr>\n",
       "      <th>Z</th>\n",
       "      <td>1053</td>\n",
       "    </tr>\n",
       "    <tr>\n",
       "      <th>P</th>\n",
       "      <td>796</td>\n",
       "    </tr>\n",
       "    <tr>\n",
       "      <th>N</th>\n",
       "      <td>441</td>\n",
       "    </tr>\n",
       "    <tr>\n",
       "      <th>G</th>\n",
       "      <td>2</td>\n",
       "    </tr>\n",
       "  </tbody>\n",
       "</table>\n",
       "</div>"
      ],
      "text/plain": [
       "       count\n",
       "GRADE       \n",
       "A      39302\n",
       "B       6577\n",
       "C       2266\n",
       "Z       1053\n",
       "P        796\n",
       "N        441\n",
       "G          2"
      ]
     },
     "execution_count": 55,
     "metadata": {},
     "output_type": "execute_result"
    }
   ],
   "source": [
    "grade_b=brooklyn_df.groupby('GRADE')['GRADE'].agg(['count']).sort_values(by=['count'],ascending=False)\n",
    "grade_b"
   ]
  },
  {
   "cell_type": "code",
   "execution_count": 56,
   "metadata": {
    "jupyter": {
     "outputs_hidden": true
    }
   },
   "outputs": [
    {
     "data": {
      "text/plain": [
       "50391"
      ]
     },
     "execution_count": 56,
     "metadata": {},
     "output_type": "execute_result"
    }
   ],
   "source": [
    "brooklyn_df['GRADE'].isna().sum()"
   ]
  },
  {
   "cell_type": "code",
   "execution_count": 57,
   "metadata": {},
   "outputs": [],
   "source": [
    "vd_b=brooklyn_df['VIOLATION DESCRIPTION'].dropna()"
   ]
  },
  {
   "cell_type": "code",
   "execution_count": 58,
   "metadata": {},
   "outputs": [],
   "source": [
    "violation_b = []\n",
    "for i in vd_b:\n",
    "    for k in i.split(\".\"):\n",
    "        if k:\n",
    "            violation_b.append(k)"
   ]
  },
  {
   "cell_type": "code",
   "execution_count": 59,
   "metadata": {},
   "outputs": [],
   "source": [
    "violation_brooklyn=pd.DataFrame(violation_b, columns=['Violation Comment'])"
   ]
  },
  {
   "cell_type": "code",
   "execution_count": 60,
   "metadata": {
    "jupyter": {
     "outputs_hidden": true
    }
   },
   "outputs": [
    {
     "data": {
      "text/html": [
       "<div>\n",
       "<style scoped>\n",
       "    .dataframe tbody tr th:only-of-type {\n",
       "        vertical-align: middle;\n",
       "    }\n",
       "\n",
       "    .dataframe tbody tr th {\n",
       "        vertical-align: top;\n",
       "    }\n",
       "\n",
       "    .dataframe thead th {\n",
       "        text-align: right;\n",
       "    }\n",
       "</style>\n",
       "<table border=\"1\" class=\"dataframe\">\n",
       "  <thead>\n",
       "    <tr style=\"text-align: right;\">\n",
       "      <th></th>\n",
       "      <th>count</th>\n",
       "    </tr>\n",
       "    <tr>\n",
       "      <th>Violation Comment</th>\n",
       "      <th></th>\n",
       "    </tr>\n",
       "  </thead>\n",
       "  <tbody>\n",
       "    <tr>\n",
       "      <th>Unacceptable material used</th>\n",
       "      <td>14474</td>\n",
       "    </tr>\n",
       "    <tr>\n",
       "      <th>Non-food contact surface improperly constructed</th>\n",
       "      <td>14278</td>\n",
       "    </tr>\n",
       "    <tr>\n",
       "      <th>Non-food contact surface or equipment improperly maintained and/or not properly sealed, raised, spaced or movable to allow accessibility for cleaning on all sides, above and underneath the unit</th>\n",
       "      <td>14278</td>\n",
       "    </tr>\n",
       "    <tr>\n",
       "      <th>Harborage or conditions conducive to attracting vermin to the premises and/or allowing vermin to exist</th>\n",
       "      <td>11373</td>\n",
       "    </tr>\n",
       "    <tr>\n",
       "      <th>Facility not vermin proof</th>\n",
       "      <td>11373</td>\n",
       "    </tr>\n",
       "  </tbody>\n",
       "</table>\n",
       "</div>"
      ],
      "text/plain": [
       "                                                    count\n",
       "Violation Comment                                        \n",
       " Unacceptable material used                         14474\n",
       "Non-food contact surface improperly constructed     14278\n",
       " Non-food contact surface or equipment improper...  14278\n",
       " Harborage or conditions conducive to attractin...  11373\n",
       "Facility not vermin proof                           11373"
      ]
     },
     "execution_count": 60,
     "metadata": {},
     "output_type": "execute_result"
    }
   ],
   "source": [
    "vb=violation_brooklyn.groupby('Violation Comment')['Violation Comment'].agg(['count']).sort_values(by=['count'],ascending=False)\n",
    "vb.head(5)"
   ]
  },
  {
   "cell_type": "markdown",
   "metadata": {},
   "source": [
    "# Analysis of Queens"
   ]
  },
  {
   "cell_type": "code",
   "execution_count": 61,
   "metadata": {},
   "outputs": [],
   "source": [
    "queens_df=df.loc[df['BORO']=='Queens']"
   ]
  },
  {
   "cell_type": "code",
   "execution_count": 62,
   "metadata": {},
   "outputs": [],
   "source": [
    "c=queens_df.groupby('CUISINE DESCRIPTION')['CUISINE DESCRIPTION'].agg(['count']).sort_values(by=['count'],ascending=False)"
   ]
  },
  {
   "cell_type": "code",
   "execution_count": 63,
   "metadata": {
    "jupyter": {
     "outputs_hidden": true
    }
   },
   "outputs": [
    {
     "data": {
      "text/html": [
       "<div>\n",
       "<style scoped>\n",
       "    .dataframe tbody tr th:only-of-type {\n",
       "        vertical-align: middle;\n",
       "    }\n",
       "\n",
       "    .dataframe tbody tr th {\n",
       "        vertical-align: top;\n",
       "    }\n",
       "\n",
       "    .dataframe thead th {\n",
       "        text-align: right;\n",
       "    }\n",
       "</style>\n",
       "<table border=\"1\" class=\"dataframe\">\n",
       "  <thead>\n",
       "    <tr style=\"text-align: right;\">\n",
       "      <th></th>\n",
       "      <th>count</th>\n",
       "    </tr>\n",
       "    <tr>\n",
       "      <th>GRADE</th>\n",
       "      <th></th>\n",
       "    </tr>\n",
       "  </thead>\n",
       "  <tbody>\n",
       "    <tr>\n",
       "      <th>A</th>\n",
       "      <td>36423</td>\n",
       "    </tr>\n",
       "    <tr>\n",
       "      <th>B</th>\n",
       "      <td>5553</td>\n",
       "    </tr>\n",
       "    <tr>\n",
       "      <th>C</th>\n",
       "      <td>2079</td>\n",
       "    </tr>\n",
       "    <tr>\n",
       "      <th>Z</th>\n",
       "      <td>1071</td>\n",
       "    </tr>\n",
       "    <tr>\n",
       "      <th>P</th>\n",
       "      <td>627</td>\n",
       "    </tr>\n",
       "    <tr>\n",
       "      <th>N</th>\n",
       "      <td>476</td>\n",
       "    </tr>\n",
       "  </tbody>\n",
       "</table>\n",
       "</div>"
      ],
      "text/plain": [
       "       count\n",
       "GRADE       \n",
       "A      36423\n",
       "B       5553\n",
       "C       2079\n",
       "Z       1071\n",
       "P        627\n",
       "N        476"
      ]
     },
     "execution_count": 63,
     "metadata": {},
     "output_type": "execute_result"
    }
   ],
   "source": [
    "grade_c=queens_df.groupby('GRADE')['GRADE'].agg(['count']).sort_values(by=['count'],ascending=False)\n",
    "grade_c"
   ]
  },
  {
   "cell_type": "code",
   "execution_count": 64,
   "metadata": {
    "jupyter": {
     "outputs_hidden": true
    }
   },
   "outputs": [
    {
     "data": {
      "text/plain": [
       "44412"
      ]
     },
     "execution_count": 64,
     "metadata": {},
     "output_type": "execute_result"
    }
   ],
   "source": [
    "queens_df['GRADE'].isna().sum()"
   ]
  },
  {
   "cell_type": "code",
   "execution_count": 65,
   "metadata": {},
   "outputs": [],
   "source": [
    "vd_q=queens_df['VIOLATION DESCRIPTION'].dropna()"
   ]
  },
  {
   "cell_type": "code",
   "execution_count": 66,
   "metadata": {},
   "outputs": [],
   "source": [
    "violation_q = []\n",
    "for i in vd_q:\n",
    "    for k in i.split(\".\"):\n",
    "        if k:\n",
    "            violation_q.append(k)"
   ]
  },
  {
   "cell_type": "code",
   "execution_count": 67,
   "metadata": {},
   "outputs": [],
   "source": [
    "violation_queens=pd.DataFrame(violation_q, columns=['Violation Comment'])"
   ]
  },
  {
   "cell_type": "code",
   "execution_count": 68,
   "metadata": {
    "jupyter": {
     "outputs_hidden": true
    }
   },
   "outputs": [
    {
     "data": {
      "text/html": [
       "<div>\n",
       "<style scoped>\n",
       "    .dataframe tbody tr th:only-of-type {\n",
       "        vertical-align: middle;\n",
       "    }\n",
       "\n",
       "    .dataframe tbody tr th {\n",
       "        vertical-align: top;\n",
       "    }\n",
       "\n",
       "    .dataframe thead th {\n",
       "        text-align: right;\n",
       "    }\n",
       "</style>\n",
       "<table border=\"1\" class=\"dataframe\">\n",
       "  <thead>\n",
       "    <tr style=\"text-align: right;\">\n",
       "      <th></th>\n",
       "      <th>count</th>\n",
       "    </tr>\n",
       "    <tr>\n",
       "      <th>Violation Comment</th>\n",
       "      <th></th>\n",
       "    </tr>\n",
       "  </thead>\n",
       "  <tbody>\n",
       "    <tr>\n",
       "      <th>Unacceptable material used</th>\n",
       "      <td>12986</td>\n",
       "    </tr>\n",
       "    <tr>\n",
       "      <th>Non-food contact surface improperly constructed</th>\n",
       "      <td>12861</td>\n",
       "    </tr>\n",
       "    <tr>\n",
       "      <th>Non-food contact surface or equipment improperly maintained and/or not properly sealed, raised, spaced or movable to allow accessibility for cleaning on all sides, above and underneath the unit</th>\n",
       "      <td>12861</td>\n",
       "    </tr>\n",
       "    <tr>\n",
       "      <th>Harborage or conditions conducive to attracting vermin to the premises and/or allowing vermin to exist</th>\n",
       "      <td>9674</td>\n",
       "    </tr>\n",
       "    <tr>\n",
       "      <th>Facility not vermin proof</th>\n",
       "      <td>9674</td>\n",
       "    </tr>\n",
       "  </tbody>\n",
       "</table>\n",
       "</div>"
      ],
      "text/plain": [
       "                                                    count\n",
       "Violation Comment                                        \n",
       " Unacceptable material used                         12986\n",
       "Non-food contact surface improperly constructed     12861\n",
       " Non-food contact surface or equipment improper...  12861\n",
       " Harborage or conditions conducive to attractin...   9674\n",
       "Facility not vermin proof                            9674"
      ]
     },
     "execution_count": 68,
     "metadata": {},
     "output_type": "execute_result"
    }
   ],
   "source": [
    "vc=violation_queens.groupby('Violation Comment')['Violation Comment'].agg(['count']).sort_values(by=['count'],ascending=False)\n",
    "vc.head(5)"
   ]
  },
  {
   "cell_type": "markdown",
   "metadata": {},
   "source": [
    "# Analysis of Bronx"
   ]
  },
  {
   "cell_type": "code",
   "execution_count": 69,
   "metadata": {},
   "outputs": [],
   "source": [
    "bronx_df=df.loc[df['BORO']=='Bronx']"
   ]
  },
  {
   "cell_type": "code",
   "execution_count": 70,
   "metadata": {
    "jupyter": {
     "outputs_hidden": true
    }
   },
   "outputs": [
    {
     "data": {
      "text/html": [
       "<div>\n",
       "<style scoped>\n",
       "    .dataframe tbody tr th:only-of-type {\n",
       "        vertical-align: middle;\n",
       "    }\n",
       "\n",
       "    .dataframe tbody tr th {\n",
       "        vertical-align: top;\n",
       "    }\n",
       "\n",
       "    .dataframe thead th {\n",
       "        text-align: right;\n",
       "    }\n",
       "</style>\n",
       "<table border=\"1\" class=\"dataframe\">\n",
       "  <thead>\n",
       "    <tr style=\"text-align: right;\">\n",
       "      <th></th>\n",
       "      <th>count</th>\n",
       "    </tr>\n",
       "    <tr>\n",
       "      <th>CUISINE DESCRIPTION</th>\n",
       "      <th></th>\n",
       "    </tr>\n",
       "  </thead>\n",
       "  <tbody>\n",
       "    <tr>\n",
       "      <th>American</th>\n",
       "      <td>5549</td>\n",
       "    </tr>\n",
       "    <tr>\n",
       "      <th>Chinese</th>\n",
       "      <td>4269</td>\n",
       "    </tr>\n",
       "    <tr>\n",
       "      <th>Latin (Cuban, Dominican, Puerto Rican, South &amp; Central American)</th>\n",
       "      <td>3549</td>\n",
       "    </tr>\n",
       "    <tr>\n",
       "      <th>Pizza</th>\n",
       "      <td>2809</td>\n",
       "    </tr>\n",
       "    <tr>\n",
       "      <th>Spanish</th>\n",
       "      <td>2747</td>\n",
       "    </tr>\n",
       "  </tbody>\n",
       "</table>\n",
       "</div>"
      ],
      "text/plain": [
       "                                                    count\n",
       "CUISINE DESCRIPTION                                      \n",
       "American                                             5549\n",
       "Chinese                                              4269\n",
       "Latin (Cuban, Dominican, Puerto Rican, South & ...   3549\n",
       "Pizza                                                2809\n",
       "Spanish                                              2747"
      ]
     },
     "execution_count": 70,
     "metadata": {},
     "output_type": "execute_result"
    }
   ],
   "source": [
    "d=bronx_df.groupby('CUISINE DESCRIPTION')['CUISINE DESCRIPTION'].agg(['count']).sort_values(by=['count'],ascending=False)\n",
    "d.head(5)"
   ]
  },
  {
   "cell_type": "code",
   "execution_count": 71,
   "metadata": {
    "jupyter": {
     "outputs_hidden": true
    }
   },
   "outputs": [
    {
     "data": {
      "text/html": [
       "<div>\n",
       "<style scoped>\n",
       "    .dataframe tbody tr th:only-of-type {\n",
       "        vertical-align: middle;\n",
       "    }\n",
       "\n",
       "    .dataframe tbody tr th {\n",
       "        vertical-align: top;\n",
       "    }\n",
       "\n",
       "    .dataframe thead th {\n",
       "        text-align: right;\n",
       "    }\n",
       "</style>\n",
       "<table border=\"1\" class=\"dataframe\">\n",
       "  <thead>\n",
       "    <tr style=\"text-align: right;\">\n",
       "      <th></th>\n",
       "      <th>count</th>\n",
       "    </tr>\n",
       "    <tr>\n",
       "      <th>GRADE</th>\n",
       "      <th></th>\n",
       "    </tr>\n",
       "  </thead>\n",
       "  <tbody>\n",
       "    <tr>\n",
       "      <th>A</th>\n",
       "      <td>14027</td>\n",
       "    </tr>\n",
       "    <tr>\n",
       "      <th>B</th>\n",
       "      <td>2716</td>\n",
       "    </tr>\n",
       "    <tr>\n",
       "      <th>C</th>\n",
       "      <td>997</td>\n",
       "    </tr>\n",
       "    <tr>\n",
       "      <th>Z</th>\n",
       "      <td>525</td>\n",
       "    </tr>\n",
       "    <tr>\n",
       "      <th>P</th>\n",
       "      <td>234</td>\n",
       "    </tr>\n",
       "    <tr>\n",
       "      <th>N</th>\n",
       "      <td>97</td>\n",
       "    </tr>\n",
       "  </tbody>\n",
       "</table>\n",
       "</div>"
      ],
      "text/plain": [
       "       count\n",
       "GRADE       \n",
       "A      14027\n",
       "B       2716\n",
       "C        997\n",
       "Z        525\n",
       "P        234\n",
       "N         97"
      ]
     },
     "execution_count": 71,
     "metadata": {},
     "output_type": "execute_result"
    }
   ],
   "source": [
    "grade_d=bronx_df.groupby('GRADE')['GRADE'].agg(['count']).sort_values(by=['count'],ascending=False)\n",
    "grade_d"
   ]
  },
  {
   "cell_type": "code",
   "execution_count": 72,
   "metadata": {
    "jupyter": {
     "outputs_hidden": true
    }
   },
   "outputs": [
    {
     "data": {
      "text/plain": [
       "17302"
      ]
     },
     "execution_count": 72,
     "metadata": {},
     "output_type": "execute_result"
    }
   ],
   "source": [
    "bronx_df['GRADE'].isna().sum()"
   ]
  },
  {
   "cell_type": "code",
   "execution_count": 73,
   "metadata": {},
   "outputs": [],
   "source": [
    "vd_brx=bronx_df['VIOLATION DESCRIPTION'].dropna()"
   ]
  },
  {
   "cell_type": "code",
   "execution_count": 74,
   "metadata": {},
   "outputs": [],
   "source": [
    "violation_brx = []\n",
    "for i in vd_brx:\n",
    "    for k in i.split(\".\"):\n",
    "        if k:\n",
    "            violation_brx.append(k)"
   ]
  },
  {
   "cell_type": "code",
   "execution_count": 75,
   "metadata": {},
   "outputs": [],
   "source": [
    "violation_bronx=pd.DataFrame(violation_brx, columns=['Violation Comment'])"
   ]
  },
  {
   "cell_type": "code",
   "execution_count": 76,
   "metadata": {
    "jupyter": {
     "outputs_hidden": true
    }
   },
   "outputs": [
    {
     "data": {
      "text/html": [
       "<div>\n",
       "<style scoped>\n",
       "    .dataframe tbody tr th:only-of-type {\n",
       "        vertical-align: middle;\n",
       "    }\n",
       "\n",
       "    .dataframe tbody tr th {\n",
       "        vertical-align: top;\n",
       "    }\n",
       "\n",
       "    .dataframe thead th {\n",
       "        text-align: right;\n",
       "    }\n",
       "</style>\n",
       "<table border=\"1\" class=\"dataframe\">\n",
       "  <thead>\n",
       "    <tr style=\"text-align: right;\">\n",
       "      <th></th>\n",
       "      <th>count</th>\n",
       "    </tr>\n",
       "    <tr>\n",
       "      <th>Violation Comment</th>\n",
       "      <th></th>\n",
       "    </tr>\n",
       "  </thead>\n",
       "  <tbody>\n",
       "    <tr>\n",
       "      <th>Unacceptable material used</th>\n",
       "      <td>5018</td>\n",
       "    </tr>\n",
       "    <tr>\n",
       "      <th>Non-food contact surface or equipment improperly maintained and/or not properly sealed, raised, spaced or movable to allow accessibility for cleaning on all sides, above and underneath the unit</th>\n",
       "      <td>4993</td>\n",
       "    </tr>\n",
       "    <tr>\n",
       "      <th>Non-food contact surface improperly constructed</th>\n",
       "      <td>4993</td>\n",
       "    </tr>\n",
       "    <tr>\n",
       "      <th>Facility not vermin proof</th>\n",
       "      <td>4666</td>\n",
       "    </tr>\n",
       "    <tr>\n",
       "      <th>Harborage or conditions conducive to attracting vermin to the premises and/or allowing vermin to exist</th>\n",
       "      <td>4666</td>\n",
       "    </tr>\n",
       "  </tbody>\n",
       "</table>\n",
       "</div>"
      ],
      "text/plain": [
       "                                                    count\n",
       "Violation Comment                                        \n",
       " Unacceptable material used                          5018\n",
       " Non-food contact surface or equipment improper...   4993\n",
       "Non-food contact surface improperly constructed      4993\n",
       "Facility not vermin proof                            4666\n",
       " Harborage or conditions conducive to attractin...   4666"
      ]
     },
     "execution_count": 76,
     "metadata": {},
     "output_type": "execute_result"
    }
   ],
   "source": [
    "vd=violation_bronx.groupby('Violation Comment')['Violation Comment'].agg(['count']).sort_values(by=['count'],ascending=False)\n",
    "vd.head(5)"
   ]
  },
  {
   "cell_type": "markdown",
   "metadata": {},
   "source": [
    "# Analysis of Staten Island"
   ]
  },
  {
   "cell_type": "code",
   "execution_count": 77,
   "metadata": {},
   "outputs": [],
   "source": [
    "staten_island_df=df.loc[df['BORO']=='Staten Island']"
   ]
  },
  {
   "cell_type": "code",
   "execution_count": 78,
   "metadata": {
    "jupyter": {
     "outputs_hidden": true
    }
   },
   "outputs": [
    {
     "data": {
      "text/html": [
       "<div>\n",
       "<style scoped>\n",
       "    .dataframe tbody tr th:only-of-type {\n",
       "        vertical-align: middle;\n",
       "    }\n",
       "\n",
       "    .dataframe tbody tr th {\n",
       "        vertical-align: top;\n",
       "    }\n",
       "\n",
       "    .dataframe thead th {\n",
       "        text-align: right;\n",
       "    }\n",
       "</style>\n",
       "<table border=\"1\" class=\"dataframe\">\n",
       "  <thead>\n",
       "    <tr style=\"text-align: right;\">\n",
       "      <th></th>\n",
       "      <th>count</th>\n",
       "    </tr>\n",
       "    <tr>\n",
       "      <th>CUISINE DESCRIPTION</th>\n",
       "      <th></th>\n",
       "    </tr>\n",
       "  </thead>\n",
       "  <tbody>\n",
       "    <tr>\n",
       "      <th>American</th>\n",
       "      <td>3087</td>\n",
       "    </tr>\n",
       "    <tr>\n",
       "      <th>Italian</th>\n",
       "      <td>1183</td>\n",
       "    </tr>\n",
       "    <tr>\n",
       "      <th>Chinese</th>\n",
       "      <td>1181</td>\n",
       "    </tr>\n",
       "    <tr>\n",
       "      <th>Pizza/Italian</th>\n",
       "      <td>962</td>\n",
       "    </tr>\n",
       "    <tr>\n",
       "      <th>Pizza</th>\n",
       "      <td>790</td>\n",
       "    </tr>\n",
       "  </tbody>\n",
       "</table>\n",
       "</div>"
      ],
      "text/plain": [
       "                     count\n",
       "CUISINE DESCRIPTION       \n",
       "American              3087\n",
       "Italian               1183\n",
       "Chinese               1181\n",
       "Pizza/Italian          962\n",
       "Pizza                  790"
      ]
     },
     "execution_count": 78,
     "metadata": {},
     "output_type": "execute_result"
    }
   ],
   "source": [
    "e=staten_island_df.groupby('CUISINE DESCRIPTION')['CUISINE DESCRIPTION'].agg(['count']).sort_values(by=['count'],ascending=False)\n",
    "e.head(5)"
   ]
  },
  {
   "cell_type": "code",
   "execution_count": 79,
   "metadata": {
    "jupyter": {
     "outputs_hidden": true
    }
   },
   "outputs": [
    {
     "data": {
      "text/html": [
       "<div>\n",
       "<style scoped>\n",
       "    .dataframe tbody tr th:only-of-type {\n",
       "        vertical-align: middle;\n",
       "    }\n",
       "\n",
       "    .dataframe tbody tr th {\n",
       "        vertical-align: top;\n",
       "    }\n",
       "\n",
       "    .dataframe thead th {\n",
       "        text-align: right;\n",
       "    }\n",
       "</style>\n",
       "<table border=\"1\" class=\"dataframe\">\n",
       "  <thead>\n",
       "    <tr style=\"text-align: right;\">\n",
       "      <th></th>\n",
       "      <th>count</th>\n",
       "    </tr>\n",
       "    <tr>\n",
       "      <th>GRADE</th>\n",
       "      <th></th>\n",
       "    </tr>\n",
       "  </thead>\n",
       "  <tbody>\n",
       "    <tr>\n",
       "      <th>A</th>\n",
       "      <td>5460</td>\n",
       "    </tr>\n",
       "    <tr>\n",
       "      <th>B</th>\n",
       "      <td>848</td>\n",
       "    </tr>\n",
       "    <tr>\n",
       "      <th>C</th>\n",
       "      <td>234</td>\n",
       "    </tr>\n",
       "    <tr>\n",
       "      <th>Z</th>\n",
       "      <td>117</td>\n",
       "    </tr>\n",
       "    <tr>\n",
       "      <th>P</th>\n",
       "      <td>58</td>\n",
       "    </tr>\n",
       "    <tr>\n",
       "      <th>N</th>\n",
       "      <td>48</td>\n",
       "    </tr>\n",
       "  </tbody>\n",
       "</table>\n",
       "</div>"
      ],
      "text/plain": [
       "       count\n",
       "GRADE       \n",
       "A       5460\n",
       "B        848\n",
       "C        234\n",
       "Z        117\n",
       "P         58\n",
       "N         48"
      ]
     },
     "execution_count": 79,
     "metadata": {},
     "output_type": "execute_result"
    }
   ],
   "source": [
    "grade_e=staten_island_df.groupby('GRADE')['GRADE'].agg(['count']).sort_values(by=['count'],ascending=False)\n",
    "grade_e"
   ]
  },
  {
   "cell_type": "code",
   "execution_count": 80,
   "metadata": {
    "jupyter": {
     "outputs_hidden": true
    }
   },
   "outputs": [
    {
     "data": {
      "text/plain": [
       "6379"
      ]
     },
     "execution_count": 80,
     "metadata": {},
     "output_type": "execute_result"
    }
   ],
   "source": [
    "staten_island_df['GRADE'].isna().sum()"
   ]
  },
  {
   "cell_type": "code",
   "execution_count": 81,
   "metadata": {},
   "outputs": [],
   "source": [
    "vd_si=staten_island_df['VIOLATION DESCRIPTION'].dropna()"
   ]
  },
  {
   "cell_type": "code",
   "execution_count": 82,
   "metadata": {},
   "outputs": [],
   "source": [
    "violation_si = []\n",
    "for i in vd_si:\n",
    "    for k in i.split(\".\"):\n",
    "        if k:\n",
    "            violation_si.append(k)"
   ]
  },
  {
   "cell_type": "code",
   "execution_count": 83,
   "metadata": {},
   "outputs": [],
   "source": [
    "violation_staten_island=pd.DataFrame(violation_si, columns=['Violation Comment'])"
   ]
  },
  {
   "cell_type": "code",
   "execution_count": 84,
   "metadata": {
    "jupyter": {
     "outputs_hidden": true
    }
   },
   "outputs": [
    {
     "data": {
      "text/html": [
       "<div>\n",
       "<style scoped>\n",
       "    .dataframe tbody tr th:only-of-type {\n",
       "        vertical-align: middle;\n",
       "    }\n",
       "\n",
       "    .dataframe tbody tr th {\n",
       "        vertical-align: top;\n",
       "    }\n",
       "\n",
       "    .dataframe thead th {\n",
       "        text-align: right;\n",
       "    }\n",
       "</style>\n",
       "<table border=\"1\" class=\"dataframe\">\n",
       "  <thead>\n",
       "    <tr style=\"text-align: right;\">\n",
       "      <th></th>\n",
       "      <th>count</th>\n",
       "    </tr>\n",
       "    <tr>\n",
       "      <th>Violation Comment</th>\n",
       "      <th></th>\n",
       "    </tr>\n",
       "  </thead>\n",
       "  <tbody>\n",
       "    <tr>\n",
       "      <th>Unacceptable material used</th>\n",
       "      <td>1875</td>\n",
       "    </tr>\n",
       "    <tr>\n",
       "      <th>Non-food contact surface improperly constructed</th>\n",
       "      <td>1855</td>\n",
       "    </tr>\n",
       "    <tr>\n",
       "      <th>Non-food contact surface or equipment improperly maintained and/or not properly sealed, raised, spaced or movable to allow accessibility for cleaning on all sides, above and underneath the unit</th>\n",
       "      <td>1855</td>\n",
       "    </tr>\n",
       "    <tr>\n",
       "      <th>Facility not vermin proof</th>\n",
       "      <td>1261</td>\n",
       "    </tr>\n",
       "    <tr>\n",
       "      <th>Harborage or conditions conducive to attracting vermin to the premises and/or allowing vermin to exist</th>\n",
       "      <td>1261</td>\n",
       "    </tr>\n",
       "  </tbody>\n",
       "</table>\n",
       "</div>"
      ],
      "text/plain": [
       "                                                    count\n",
       "Violation Comment                                        \n",
       " Unacceptable material used                          1875\n",
       "Non-food contact surface improperly constructed      1855\n",
       " Non-food contact surface or equipment improper...   1855\n",
       "Facility not vermin proof                            1261\n",
       " Harborage or conditions conducive to attractin...   1261"
      ]
     },
     "execution_count": 84,
     "metadata": {},
     "output_type": "execute_result"
    }
   ],
   "source": [
    "ve=violation_staten_island.groupby('Violation Comment')['Violation Comment'].agg(['count']).sort_values(by=['count'],ascending=False)\n",
    "ve.head(5)"
   ]
  },
  {
   "cell_type": "markdown",
   "metadata": {},
   "source": [
    "# Analysis on where no borough listed"
   ]
  },
  {
   "cell_type": "code",
   "execution_count": 85,
   "metadata": {},
   "outputs": [],
   "source": [
    "no_boro_df=df.loc[df['BORO']=='0']"
   ]
  },
  {
   "cell_type": "code",
   "execution_count": 86,
   "metadata": {
    "jupyter": {
     "outputs_hidden": true
    }
   },
   "outputs": [
    {
     "data": {
      "text/html": [
       "<div>\n",
       "<style scoped>\n",
       "    .dataframe tbody tr th:only-of-type {\n",
       "        vertical-align: middle;\n",
       "    }\n",
       "\n",
       "    .dataframe tbody tr th {\n",
       "        vertical-align: top;\n",
       "    }\n",
       "\n",
       "    .dataframe thead th {\n",
       "        text-align: right;\n",
       "    }\n",
       "</style>\n",
       "<table border=\"1\" class=\"dataframe\">\n",
       "  <thead>\n",
       "    <tr style=\"text-align: right;\">\n",
       "      <th></th>\n",
       "      <th>count</th>\n",
       "    </tr>\n",
       "    <tr>\n",
       "      <th>CUISINE DESCRIPTION</th>\n",
       "      <th></th>\n",
       "    </tr>\n",
       "  </thead>\n",
       "  <tbody>\n",
       "    <tr>\n",
       "      <th>American</th>\n",
       "      <td>70</td>\n",
       "    </tr>\n",
       "    <tr>\n",
       "      <th>Scandinavian</th>\n",
       "      <td>16</td>\n",
       "    </tr>\n",
       "    <tr>\n",
       "      <th>Hawaiian</th>\n",
       "      <td>14</td>\n",
       "    </tr>\n",
       "    <tr>\n",
       "      <th>Other</th>\n",
       "      <td>12</td>\n",
       "    </tr>\n",
       "  </tbody>\n",
       "</table>\n",
       "</div>"
      ],
      "text/plain": [
       "                     count\n",
       "CUISINE DESCRIPTION       \n",
       "American                70\n",
       "Scandinavian            16\n",
       "Hawaiian                14\n",
       "Other                   12"
      ]
     },
     "execution_count": 86,
     "metadata": {},
     "output_type": "execute_result"
    }
   ],
   "source": [
    "no_boro_df.groupby('CUISINE DESCRIPTION')['CUISINE DESCRIPTION'].agg(['count']).sort_values(by=['count'],ascending=False)"
   ]
  },
  {
   "cell_type": "code",
   "execution_count": 87,
   "metadata": {
    "jupyter": {
     "outputs_hidden": true
    }
   },
   "outputs": [
    {
     "data": {
      "text/html": [
       "<div>\n",
       "<style scoped>\n",
       "    .dataframe tbody tr th:only-of-type {\n",
       "        vertical-align: middle;\n",
       "    }\n",
       "\n",
       "    .dataframe tbody tr th {\n",
       "        vertical-align: top;\n",
       "    }\n",
       "\n",
       "    .dataframe thead th {\n",
       "        text-align: right;\n",
       "    }\n",
       "</style>\n",
       "<table border=\"1\" class=\"dataframe\">\n",
       "  <thead>\n",
       "    <tr style=\"text-align: right;\">\n",
       "      <th></th>\n",
       "      <th>count</th>\n",
       "    </tr>\n",
       "    <tr>\n",
       "      <th>GRADE</th>\n",
       "      <th></th>\n",
       "    </tr>\n",
       "  </thead>\n",
       "  <tbody>\n",
       "    <tr>\n",
       "      <th>A</th>\n",
       "      <td>33</td>\n",
       "    </tr>\n",
       "    <tr>\n",
       "      <th>B</th>\n",
       "      <td>9</td>\n",
       "    </tr>\n",
       "    <tr>\n",
       "      <th>C</th>\n",
       "      <td>6</td>\n",
       "    </tr>\n",
       "  </tbody>\n",
       "</table>\n",
       "</div>"
      ],
      "text/plain": [
       "       count\n",
       "GRADE       \n",
       "A         33\n",
       "B          9\n",
       "C          6"
      ]
     },
     "execution_count": 87,
     "metadata": {},
     "output_type": "execute_result"
    }
   ],
   "source": [
    "no_boro_df.groupby('GRADE')['GRADE'].agg(['count']).sort_values(by=['count'],ascending=False)"
   ]
  },
  {
   "cell_type": "code",
   "execution_count": 88,
   "metadata": {
    "jupyter": {
     "outputs_hidden": true
    }
   },
   "outputs": [
    {
     "data": {
      "text/plain": [
       "64"
      ]
     },
     "execution_count": 88,
     "metadata": {},
     "output_type": "execute_result"
    }
   ],
   "source": [
    "no_boro_df['GRADE'].isna().sum()"
   ]
  },
  {
   "cell_type": "code",
   "execution_count": 89,
   "metadata": {},
   "outputs": [],
   "source": [
    "vd_nb=no_boro_df['VIOLATION DESCRIPTION'].dropna()"
   ]
  },
  {
   "cell_type": "code",
   "execution_count": 90,
   "metadata": {},
   "outputs": [],
   "source": [
    "violation_nb = []\n",
    "for i in vd_nb:\n",
    "    for k in i.split(\".\"):\n",
    "        if k:\n",
    "            violation_nb.append(k)"
   ]
  },
  {
   "cell_type": "code",
   "execution_count": 91,
   "metadata": {},
   "outputs": [],
   "source": [
    "violation_no_boro=pd.DataFrame(violation_nb, columns=['Violation Comment'])"
   ]
  },
  {
   "cell_type": "code",
   "execution_count": 92,
   "metadata": {
    "jupyter": {
     "outputs_hidden": true
    }
   },
   "outputs": [
    {
     "data": {
      "text/html": [
       "<div>\n",
       "<style scoped>\n",
       "    .dataframe tbody tr th:only-of-type {\n",
       "        vertical-align: middle;\n",
       "    }\n",
       "\n",
       "    .dataframe tbody tr th {\n",
       "        vertical-align: top;\n",
       "    }\n",
       "\n",
       "    .dataframe thead th {\n",
       "        text-align: right;\n",
       "    }\n",
       "</style>\n",
       "<table border=\"1\" class=\"dataframe\">\n",
       "  <thead>\n",
       "    <tr style=\"text-align: right;\">\n",
       "      <th></th>\n",
       "      <th>count</th>\n",
       "    </tr>\n",
       "    <tr>\n",
       "      <th>Violation Comment</th>\n",
       "      <th></th>\n",
       "    </tr>\n",
       "  </thead>\n",
       "  <tbody>\n",
       "    <tr>\n",
       "      <th>Non-food contact surface or equipment improperly maintained and/or not properly sealed, raised, spaced or movable to allow accessibility for cleaning on all sides, above and underneath the unit</th>\n",
       "      <td>13</td>\n",
       "    </tr>\n",
       "    <tr>\n",
       "      <th>Non-food contact surface improperly constructed</th>\n",
       "      <td>13</td>\n",
       "    </tr>\n",
       "    <tr>\n",
       "      <th>Unacceptable material used</th>\n",
       "      <td>13</td>\n",
       "    </tr>\n",
       "    <tr>\n",
       "      <th>Food contact surface not properly washed, rinsed and sanitized after each use and following any activity when contamination may have occurred</th>\n",
       "      <td>12</td>\n",
       "    </tr>\n",
       "    <tr>\n",
       "      <th>Facility not vermin proof</th>\n",
       "      <td>8</td>\n",
       "    </tr>\n",
       "  </tbody>\n",
       "</table>\n",
       "</div>"
      ],
      "text/plain": [
       "                                                    count\n",
       "Violation Comment                                        \n",
       " Non-food contact surface or equipment improper...     13\n",
       "Non-food contact surface improperly constructed        13\n",
       " Unacceptable material used                            13\n",
       "Food contact surface not properly washed, rinse...     12\n",
       "Facility not vermin proof                               8"
      ]
     },
     "execution_count": 92,
     "metadata": {},
     "output_type": "execute_result"
    }
   ],
   "source": [
    "violation_no_boro.groupby('Violation Comment')['Violation Comment'].agg(['count']).sort_values(by=['count'],ascending=False).head(5)"
   ]
  },
  {
   "cell_type": "code",
   "execution_count": 93,
   "metadata": {
    "jupyter": {
     "outputs_hidden": true
    }
   },
   "outputs": [
    {
     "data": {
      "text/html": [
       "<div>\n",
       "<style scoped>\n",
       "    .dataframe tbody tr th:only-of-type {\n",
       "        vertical-align: middle;\n",
       "    }\n",
       "\n",
       "    .dataframe tbody tr th {\n",
       "        vertical-align: top;\n",
       "    }\n",
       "\n",
       "    .dataframe thead th {\n",
       "        text-align: right;\n",
       "    }\n",
       "</style>\n",
       "<table border=\"1\" class=\"dataframe\">\n",
       "  <thead>\n",
       "    <tr style=\"text-align: right;\">\n",
       "      <th></th>\n",
       "      <th>count</th>\n",
       "    </tr>\n",
       "    <tr>\n",
       "      <th>BORO</th>\n",
       "      <th></th>\n",
       "    </tr>\n",
       "  </thead>\n",
       "  <tbody>\n",
       "    <tr>\n",
       "      <th>Manhattan</th>\n",
       "      <td>155742</td>\n",
       "    </tr>\n",
       "    <tr>\n",
       "      <th>Brooklyn</th>\n",
       "      <td>100828</td>\n",
       "    </tr>\n",
       "    <tr>\n",
       "      <th>Queens</th>\n",
       "      <td>90641</td>\n",
       "    </tr>\n",
       "    <tr>\n",
       "      <th>Bronx</th>\n",
       "      <td>35898</td>\n",
       "    </tr>\n",
       "    <tr>\n",
       "      <th>Staten Island</th>\n",
       "      <td>13144</td>\n",
       "    </tr>\n",
       "    <tr>\n",
       "      <th>0</th>\n",
       "      <td>112</td>\n",
       "    </tr>\n",
       "  </tbody>\n",
       "</table>\n",
       "</div>"
      ],
      "text/plain": [
       "                count\n",
       "BORO                 \n",
       "Manhattan      155742\n",
       "Brooklyn       100828\n",
       "Queens          90641\n",
       "Bronx           35898\n",
       "Staten Island   13144\n",
       "0                 112"
      ]
     },
     "execution_count": 93,
     "metadata": {},
     "output_type": "execute_result"
    }
   ],
   "source": [
    "bp=df.groupby('BORO')['BORO'].agg(['count',]).sort_values(by=['count'],ascending=False)\n",
    "bp"
   ]
  },
  {
   "cell_type": "markdown",
   "metadata": {},
   "source": [
    "# All borough analysis"
   ]
  },
  {
   "cell_type": "code",
   "execution_count": 94,
   "metadata": {
    "jupyter": {
     "outputs_hidden": true
    }
   },
   "outputs": [
    {
     "data": {
      "text/html": [
       "<div>\n",
       "<style scoped>\n",
       "    .dataframe tbody tr th:only-of-type {\n",
       "        vertical-align: middle;\n",
       "    }\n",
       "\n",
       "    .dataframe tbody tr th {\n",
       "        vertical-align: top;\n",
       "    }\n",
       "\n",
       "    .dataframe thead th {\n",
       "        text-align: right;\n",
       "    }\n",
       "</style>\n",
       "<table border=\"1\" class=\"dataframe\">\n",
       "  <thead>\n",
       "    <tr style=\"text-align: right;\">\n",
       "      <th></th>\n",
       "      <th>Manhattan</th>\n",
       "      <th>Brooklyn</th>\n",
       "      <th>Queens</th>\n",
       "      <th>Bronx</th>\n",
       "      <th>StatenIsland</th>\n",
       "    </tr>\n",
       "    <tr>\n",
       "      <th>CUISINE DESCRIPTION</th>\n",
       "      <th></th>\n",
       "      <th></th>\n",
       "      <th></th>\n",
       "      <th></th>\n",
       "      <th></th>\n",
       "    </tr>\n",
       "  </thead>\n",
       "  <tbody>\n",
       "    <tr>\n",
       "      <th>American</th>\n",
       "      <td>43039</td>\n",
       "      <td>18277.0</td>\n",
       "      <td>13218.0</td>\n",
       "      <td>5549.0</td>\n",
       "      <td>3087.0</td>\n",
       "    </tr>\n",
       "    <tr>\n",
       "      <th>Chinese</th>\n",
       "      <td>10778</td>\n",
       "      <td>12627.0</td>\n",
       "      <td>13147.0</td>\n",
       "      <td>4269.0</td>\n",
       "      <td>1181.0</td>\n",
       "    </tr>\n",
       "    <tr>\n",
       "      <th>Café/Coffee/Tea</th>\n",
       "      <td>10186</td>\n",
       "      <td>5334.0</td>\n",
       "      <td>2660.0</td>\n",
       "      <td>742.0</td>\n",
       "      <td>270.0</td>\n",
       "    </tr>\n",
       "    <tr>\n",
       "      <th>Italian</th>\n",
       "      <td>9525</td>\n",
       "      <td>2633.0</td>\n",
       "      <td>1743.0</td>\n",
       "      <td>857.0</td>\n",
       "      <td>1183.0</td>\n",
       "    </tr>\n",
       "    <tr>\n",
       "      <th>Japanese</th>\n",
       "      <td>7799</td>\n",
       "      <td>3035.0</td>\n",
       "      <td>2500.0</td>\n",
       "      <td>300.0</td>\n",
       "      <td>560.0</td>\n",
       "    </tr>\n",
       "    <tr>\n",
       "      <th>Pizza</th>\n",
       "      <td>5507</td>\n",
       "      <td>4395.0</td>\n",
       "      <td>3948.0</td>\n",
       "      <td>2809.0</td>\n",
       "      <td>790.0</td>\n",
       "    </tr>\n",
       "    <tr>\n",
       "      <th>Mexican</th>\n",
       "      <td>5296</td>\n",
       "      <td>4909.0</td>\n",
       "      <td>3167.0</td>\n",
       "      <td>2164.0</td>\n",
       "      <td>725.0</td>\n",
       "    </tr>\n",
       "    <tr>\n",
       "      <th>Latin (Cuban, Dominican, Puerto Rican, South &amp; Central American)</th>\n",
       "      <td>4098</td>\n",
       "      <td>2952.0</td>\n",
       "      <td>6480.0</td>\n",
       "      <td>3549.0</td>\n",
       "      <td>173.0</td>\n",
       "    </tr>\n",
       "    <tr>\n",
       "      <th>Bakery</th>\n",
       "      <td>3703</td>\n",
       "      <td>3368.0</td>\n",
       "      <td>3659.0</td>\n",
       "      <td>1199.0</td>\n",
       "      <td>428.0</td>\n",
       "    </tr>\n",
       "    <tr>\n",
       "      <th>French</th>\n",
       "      <td>3616</td>\n",
       "      <td>727.0</td>\n",
       "      <td>198.0</td>\n",
       "      <td>13.0</td>\n",
       "      <td>NaN</td>\n",
       "    </tr>\n",
       "  </tbody>\n",
       "</table>\n",
       "</div>"
      ],
      "text/plain": [
       "                                                    Manhattan  Brooklyn  \\\n",
       "CUISINE DESCRIPTION                                                       \n",
       "American                                                43039   18277.0   \n",
       "Chinese                                                 10778   12627.0   \n",
       "Café/Coffee/Tea                                         10186    5334.0   \n",
       "Italian                                                  9525    2633.0   \n",
       "Japanese                                                 7799    3035.0   \n",
       "Pizza                                                    5507    4395.0   \n",
       "Mexican                                                  5296    4909.0   \n",
       "Latin (Cuban, Dominican, Puerto Rican, South & ...       4098    2952.0   \n",
       "Bakery                                                   3703    3368.0   \n",
       "French                                                   3616     727.0   \n",
       "\n",
       "                                                     Queens   Bronx  \\\n",
       "CUISINE DESCRIPTION                                                   \n",
       "American                                            13218.0  5549.0   \n",
       "Chinese                                             13147.0  4269.0   \n",
       "Café/Coffee/Tea                                      2660.0   742.0   \n",
       "Italian                                              1743.0   857.0   \n",
       "Japanese                                             2500.0   300.0   \n",
       "Pizza                                                3948.0  2809.0   \n",
       "Mexican                                              3167.0  2164.0   \n",
       "Latin (Cuban, Dominican, Puerto Rican, South & ...   6480.0  3549.0   \n",
       "Bakery                                               3659.0  1199.0   \n",
       "French                                                198.0    13.0   \n",
       "\n",
       "                                                    StatenIsland  \n",
       "CUISINE DESCRIPTION                                               \n",
       "American                                                  3087.0  \n",
       "Chinese                                                   1181.0  \n",
       "Café/Coffee/Tea                                            270.0  \n",
       "Italian                                                   1183.0  \n",
       "Japanese                                                   560.0  \n",
       "Pizza                                                      790.0  \n",
       "Mexican                                                    725.0  \n",
       "Latin (Cuban, Dominican, Puerto Rican, South & ...         173.0  \n",
       "Bakery                                                     428.0  \n",
       "French                                                       NaN  "
      ]
     },
     "execution_count": 94,
     "metadata": {},
     "output_type": "execute_result"
    }
   ],
   "source": [
    "total=a.assign(Brooklyn=b['count'],Queens=c['count'],Bronx=d['count'],StatenIsland=e['count'])\n",
    "total.head(10)"
   ]
  },
  {
   "cell_type": "code",
   "execution_count": 95,
   "metadata": {
    "jupyter": {
     "outputs_hidden": true
    }
   },
   "outputs": [
    {
     "data": {
      "text/html": [
       "<div>\n",
       "<style scoped>\n",
       "    .dataframe tbody tr th:only-of-type {\n",
       "        vertical-align: middle;\n",
       "    }\n",
       "\n",
       "    .dataframe tbody tr th {\n",
       "        vertical-align: top;\n",
       "    }\n",
       "\n",
       "    .dataframe thead th {\n",
       "        text-align: right;\n",
       "    }\n",
       "</style>\n",
       "<table border=\"1\" class=\"dataframe\">\n",
       "  <thead>\n",
       "    <tr style=\"text-align: right;\">\n",
       "      <th></th>\n",
       "      <th>Manhattan</th>\n",
       "      <th>Brooklyn</th>\n",
       "      <th>Queens</th>\n",
       "      <th>Bronx</th>\n",
       "      <th>StatenIsland</th>\n",
       "    </tr>\n",
       "    <tr>\n",
       "      <th>GRADE</th>\n",
       "      <th></th>\n",
       "      <th></th>\n",
       "      <th></th>\n",
       "      <th></th>\n",
       "      <th></th>\n",
       "    </tr>\n",
       "  </thead>\n",
       "  <tbody>\n",
       "    <tr>\n",
       "      <th>A</th>\n",
       "      <td>62003</td>\n",
       "      <td>39302</td>\n",
       "      <td>36423.0</td>\n",
       "      <td>14027.0</td>\n",
       "      <td>5460.0</td>\n",
       "    </tr>\n",
       "    <tr>\n",
       "      <th>B</th>\n",
       "      <td>9229</td>\n",
       "      <td>6577</td>\n",
       "      <td>5553.0</td>\n",
       "      <td>2716.0</td>\n",
       "      <td>848.0</td>\n",
       "    </tr>\n",
       "    <tr>\n",
       "      <th>C</th>\n",
       "      <td>3707</td>\n",
       "      <td>2266</td>\n",
       "      <td>2079.0</td>\n",
       "      <td>997.0</td>\n",
       "      <td>234.0</td>\n",
       "    </tr>\n",
       "    <tr>\n",
       "      <th>Z</th>\n",
       "      <td>1805</td>\n",
       "      <td>1053</td>\n",
       "      <td>1071.0</td>\n",
       "      <td>525.0</td>\n",
       "      <td>117.0</td>\n",
       "    </tr>\n",
       "    <tr>\n",
       "      <th>P</th>\n",
       "      <td>956</td>\n",
       "      <td>796</td>\n",
       "      <td>627.0</td>\n",
       "      <td>234.0</td>\n",
       "      <td>58.0</td>\n",
       "    </tr>\n",
       "    <tr>\n",
       "      <th>N</th>\n",
       "      <td>516</td>\n",
       "      <td>441</td>\n",
       "      <td>476.0</td>\n",
       "      <td>97.0</td>\n",
       "      <td>48.0</td>\n",
       "    </tr>\n",
       "  </tbody>\n",
       "</table>\n",
       "</div>"
      ],
      "text/plain": [
       "       Manhattan  Brooklyn   Queens    Bronx  StatenIsland\n",
       "GRADE                                                     \n",
       "A          62003     39302  36423.0  14027.0        5460.0\n",
       "B           9229      6577   5553.0   2716.0         848.0\n",
       "C           3707      2266   2079.0    997.0         234.0\n",
       "Z           1805      1053   1071.0    525.0         117.0\n",
       "P            956       796    627.0    234.0          58.0\n",
       "N            516       441    476.0     97.0          48.0"
      ]
     },
     "execution_count": 95,
     "metadata": {},
     "output_type": "execute_result"
    }
   ],
   "source": [
    "grade_total=grade_a.assign(Brooklyn=grade_b['count'],Queens=grade_c['count'],Bronx=grade_d['count'],StatenIsland=grade_e['count'])\n",
    "grade_total.head(6)"
   ]
  },
  {
   "cell_type": "code",
   "execution_count": 96,
   "metadata": {
    "jupyter": {
     "outputs_hidden": true
    }
   },
   "outputs": [
    {
     "data": {
      "text/html": [
       "<div>\n",
       "<style scoped>\n",
       "    .dataframe tbody tr th:only-of-type {\n",
       "        vertical-align: middle;\n",
       "    }\n",
       "\n",
       "    .dataframe tbody tr th {\n",
       "        vertical-align: top;\n",
       "    }\n",
       "\n",
       "    .dataframe thead th {\n",
       "        text-align: right;\n",
       "    }\n",
       "</style>\n",
       "<table border=\"1\" class=\"dataframe\">\n",
       "  <thead>\n",
       "    <tr style=\"text-align: right;\">\n",
       "      <th></th>\n",
       "      <th>Manhattan</th>\n",
       "      <th>Brooklyn</th>\n",
       "      <th>Queens</th>\n",
       "      <th>Bronx</th>\n",
       "      <th>StatenIsland</th>\n",
       "    </tr>\n",
       "    <tr>\n",
       "      <th>Violation Comment</th>\n",
       "      <th></th>\n",
       "      <th></th>\n",
       "      <th></th>\n",
       "      <th></th>\n",
       "      <th></th>\n",
       "    </tr>\n",
       "  </thead>\n",
       "  <tbody>\n",
       "    <tr>\n",
       "      <th>Unacceptable material used</th>\n",
       "      <td>22014</td>\n",
       "      <td>14474.0</td>\n",
       "      <td>12986.0</td>\n",
       "      <td>5018.0</td>\n",
       "      <td>1875.0</td>\n",
       "    </tr>\n",
       "    <tr>\n",
       "      <th>Non-food contact surface improperly constructed</th>\n",
       "      <td>21840</td>\n",
       "      <td>14278.0</td>\n",
       "      <td>12861.0</td>\n",
       "      <td>4993.0</td>\n",
       "      <td>1855.0</td>\n",
       "    </tr>\n",
       "    <tr>\n",
       "      <th>Non-food contact surface or equipment improperly maintained and/or not properly sealed, raised, spaced or movable to allow accessibility for cleaning on all sides, above and underneath the unit</th>\n",
       "      <td>21840</td>\n",
       "      <td>14278.0</td>\n",
       "      <td>12861.0</td>\n",
       "      <td>4993.0</td>\n",
       "      <td>1855.0</td>\n",
       "    </tr>\n",
       "    <tr>\n",
       "      <th>Harborage or conditions conducive to attracting vermin to the premises and/or allowing vermin to exist</th>\n",
       "      <td>17021</td>\n",
       "      <td>11373.0</td>\n",
       "      <td>9674.0</td>\n",
       "      <td>4666.0</td>\n",
       "      <td>1261.0</td>\n",
       "    </tr>\n",
       "    <tr>\n",
       "      <th>Facility not vermin proof</th>\n",
       "      <td>17021</td>\n",
       "      <td>11373.0</td>\n",
       "      <td>9674.0</td>\n",
       "      <td>4666.0</td>\n",
       "      <td>1261.0</td>\n",
       "    </tr>\n",
       "    <tr>\n",
       "      <th>Food contact surface not properly washed, rinsed and sanitized after each use and following any activity when contamination may have occurred</th>\n",
       "      <td>11775</td>\n",
       "      <td>6370.0</td>\n",
       "      <td>5921.0</td>\n",
       "      <td>1918.0</td>\n",
       "      <td>1138.0</td>\n",
       "    </tr>\n",
       "    <tr>\n",
       "      <th>Evidence of mice or live mice present in facility's food and/or non-food areas</th>\n",
       "      <td>10650</td>\n",
       "      <td>7896.0</td>\n",
       "      <td>6739.0</td>\n",
       "      <td>3028.0</td>\n",
       "      <td>816.0</td>\n",
       "    </tr>\n",
       "    <tr>\n",
       "      <th>Plumbing not properly installed or maintained; anti-siphonage or backflow prevention device not provided where required; equipment or floor not properly drained; sewage disposal system in disrepair or not functioning properly</th>\n",
       "      <td>9914</td>\n",
       "      <td>5544.0</td>\n",
       "      <td>4965.0</td>\n",
       "      <td>2192.0</td>\n",
       "      <td>822.0</td>\n",
       "    </tr>\n",
       "    <tr>\n",
       "      <th>Food not protected from potential source of contamination during storage, preparation, transportation, display or service</th>\n",
       "      <td>9838</td>\n",
       "      <td>6123.0</td>\n",
       "      <td>5821.0</td>\n",
       "      <td>1933.0</td>\n",
       "      <td>770.0</td>\n",
       "    </tr>\n",
       "    <tr>\n",
       "      <th>Cold food item held above 41º F (smoked fish and reduced oxygen packaged foods above 38 ºF) except during necessary preparation</th>\n",
       "      <td>9655</td>\n",
       "      <td>5628.0</td>\n",
       "      <td>5062.0</td>\n",
       "      <td>1864.0</td>\n",
       "      <td>835.0</td>\n",
       "    </tr>\n",
       "    <tr>\n",
       "      <th>Filth flies or food/refuse/sewage-associated (FRSA) flies present in facility’s food and/or non-food areas</th>\n",
       "      <td>9028</td>\n",
       "      <td>5082.0</td>\n",
       "      <td>4485.0</td>\n",
       "      <td>2224.0</td>\n",
       "      <td>647.0</td>\n",
       "    </tr>\n",
       "    <tr>\n",
       "      <th>Filth flies include house flies, little house flies, blow flies, bottle flies and flesh flies</th>\n",
       "      <td>9028</td>\n",
       "      <td>5082.0</td>\n",
       "      <td>4485.0</td>\n",
       "      <td>2224.0</td>\n",
       "      <td>647.0</td>\n",
       "    </tr>\n",
       "    <tr>\n",
       "      <th>Food/refuse/sewage-associated flies include fruit flies, drain flies and Phorid flies</th>\n",
       "      <td>9028</td>\n",
       "      <td>5082.0</td>\n",
       "      <td>4485.0</td>\n",
       "      <td>2224.0</td>\n",
       "      <td>647.0</td>\n",
       "    </tr>\n",
       "    <tr>\n",
       "      <th>Hot food item not held at or above 140º F</th>\n",
       "      <td>7219</td>\n",
       "      <td>5182.0</td>\n",
       "      <td>4793.0</td>\n",
       "      <td>2223.0</td>\n",
       "      <td>734.0</td>\n",
       "    </tr>\n",
       "    <tr>\n",
       "      <th>Raw, cooked or prepared food is adulterated, contaminated, cross-contaminated, or not discarded in accordance with HACCP plan</th>\n",
       "      <td>3631</td>\n",
       "      <td>2061.0</td>\n",
       "      <td>1867.0</td>\n",
       "      <td>723.0</td>\n",
       "      <td>333.0</td>\n",
       "    </tr>\n",
       "    <tr>\n",
       "      <th>Live roaches present in facility's food and/or non-food areas</th>\n",
       "      <td>3108</td>\n",
       "      <td>2313.0</td>\n",
       "      <td>2147.0</td>\n",
       "      <td>1036.0</td>\n",
       "      <td>153.0</td>\n",
       "    </tr>\n",
       "    <tr>\n",
       "      <th>Sanitized equipment or utensil, including in-use food dispensing utensil, improperly used or stored</th>\n",
       "      <td>2956</td>\n",
       "      <td>1783.0</td>\n",
       "      <td>1882.0</td>\n",
       "      <td>631.0</td>\n",
       "      <td>238.0</td>\n",
       "    </tr>\n",
       "    <tr>\n",
       "      <th>Proper sanitization not provided for utensil ware washing operation</th>\n",
       "      <td>2801</td>\n",
       "      <td>1577.0</td>\n",
       "      <td>1485.0</td>\n",
       "      <td>324.0</td>\n",
       "      <td>201.0</td>\n",
       "    </tr>\n",
       "    <tr>\n",
       "      <th>Food contact surface not properly maintained</th>\n",
       "      <td>2691</td>\n",
       "      <td>1428.0</td>\n",
       "      <td>1631.0</td>\n",
       "      <td>501.0</td>\n",
       "      <td>222.0</td>\n",
       "    </tr>\n",
       "    <tr>\n",
       "      <th>Wiping cloths soiled or not stored in sanitizing solution</th>\n",
       "      <td>2687</td>\n",
       "      <td>1851.0</td>\n",
       "      <td>1743.0</td>\n",
       "      <td>475.0</td>\n",
       "      <td>159.0</td>\n",
       "    </tr>\n",
       "  </tbody>\n",
       "</table>\n",
       "</div>"
      ],
      "text/plain": [
       "                                                    Manhattan  Brooklyn  \\\n",
       "Violation Comment                                                         \n",
       " Unacceptable material used                             22014   14474.0   \n",
       "Non-food contact surface improperly constructed         21840   14278.0   \n",
       " Non-food contact surface or equipment improper...      21840   14278.0   \n",
       " Harborage or conditions conducive to attractin...      17021   11373.0   \n",
       "Facility not vermin proof                               17021   11373.0   \n",
       "Food contact surface not properly washed, rinse...      11775    6370.0   \n",
       "Evidence of mice or live mice present in facili...      10650    7896.0   \n",
       "Plumbing not properly installed or maintained; ...       9914    5544.0   \n",
       "Food not protected from potential source of con...       9838    6123.0   \n",
       "Cold food item held above 41º F (smoked fish an...       9655    5628.0   \n",
       "Filth flies or food/refuse/sewage-associated (F...       9028    5082.0   \n",
       " Filth flies include house flies, little house ...       9028    5082.0   \n",
       " Food/refuse/sewage-associated flies include fr...       9028    5082.0   \n",
       "Hot food item not held at or above 140º F                7219    5182.0   \n",
       "Raw, cooked or prepared food is adulterated, co...       3631    2061.0   \n",
       "Live roaches present in facility's food and/or ...       3108    2313.0   \n",
       "Sanitized equipment or utensil, including in-us...       2956    1783.0   \n",
       "Proper sanitization not provided for utensil wa...       2801    1577.0   \n",
       "Food contact surface not properly maintained             2691    1428.0   \n",
       "Wiping cloths soiled or not stored in sanitizin...       2687    1851.0   \n",
       "\n",
       "                                                     Queens   Bronx  \\\n",
       "Violation Comment                                                     \n",
       " Unacceptable material used                         12986.0  5018.0   \n",
       "Non-food contact surface improperly constructed     12861.0  4993.0   \n",
       " Non-food contact surface or equipment improper...  12861.0  4993.0   \n",
       " Harborage or conditions conducive to attractin...   9674.0  4666.0   \n",
       "Facility not vermin proof                            9674.0  4666.0   \n",
       "Food contact surface not properly washed, rinse...   5921.0  1918.0   \n",
       "Evidence of mice or live mice present in facili...   6739.0  3028.0   \n",
       "Plumbing not properly installed or maintained; ...   4965.0  2192.0   \n",
       "Food not protected from potential source of con...   5821.0  1933.0   \n",
       "Cold food item held above 41º F (smoked fish an...   5062.0  1864.0   \n",
       "Filth flies or food/refuse/sewage-associated (F...   4485.0  2224.0   \n",
       " Filth flies include house flies, little house ...   4485.0  2224.0   \n",
       " Food/refuse/sewage-associated flies include fr...   4485.0  2224.0   \n",
       "Hot food item not held at or above 140º F            4793.0  2223.0   \n",
       "Raw, cooked or prepared food is adulterated, co...   1867.0   723.0   \n",
       "Live roaches present in facility's food and/or ...   2147.0  1036.0   \n",
       "Sanitized equipment or utensil, including in-us...   1882.0   631.0   \n",
       "Proper sanitization not provided for utensil wa...   1485.0   324.0   \n",
       "Food contact surface not properly maintained         1631.0   501.0   \n",
       "Wiping cloths soiled or not stored in sanitizin...   1743.0   475.0   \n",
       "\n",
       "                                                    StatenIsland  \n",
       "Violation Comment                                                 \n",
       " Unacceptable material used                               1875.0  \n",
       "Non-food contact surface improperly constructed           1855.0  \n",
       " Non-food contact surface or equipment improper...        1855.0  \n",
       " Harborage or conditions conducive to attractin...        1261.0  \n",
       "Facility not vermin proof                                 1261.0  \n",
       "Food contact surface not properly washed, rinse...        1138.0  \n",
       "Evidence of mice or live mice present in facili...         816.0  \n",
       "Plumbing not properly installed or maintained; ...         822.0  \n",
       "Food not protected from potential source of con...         770.0  \n",
       "Cold food item held above 41º F (smoked fish an...         835.0  \n",
       "Filth flies or food/refuse/sewage-associated (F...         647.0  \n",
       " Filth flies include house flies, little house ...         647.0  \n",
       " Food/refuse/sewage-associated flies include fr...         647.0  \n",
       "Hot food item not held at or above 140º F                  734.0  \n",
       "Raw, cooked or prepared food is adulterated, co...         333.0  \n",
       "Live roaches present in facility's food and/or ...         153.0  \n",
       "Sanitized equipment or utensil, including in-us...         238.0  \n",
       "Proper sanitization not provided for utensil wa...         201.0  \n",
       "Food contact surface not properly maintained               222.0  \n",
       "Wiping cloths soiled or not stored in sanitizin...         159.0  "
      ]
     },
     "execution_count": 96,
     "metadata": {},
     "output_type": "execute_result"
    }
   ],
   "source": [
    "violation_total=va.assign(Brooklyn=vb['count'],Queens=vc['count'],Bronx=vd['count'],StatenIsland=ve['count'])\n",
    "violation_total.head(20)"
   ]
  },
  {
   "cell_type": "code",
   "execution_count": 97,
   "metadata": {
    "jupyter": {
     "outputs_hidden": true
    }
   },
   "outputs": [
    {
     "data": {
      "text/html": [
       "<div>\n",
       "<style scoped>\n",
       "    .dataframe tbody tr th:only-of-type {\n",
       "        vertical-align: middle;\n",
       "    }\n",
       "\n",
       "    .dataframe tbody tr th {\n",
       "        vertical-align: top;\n",
       "    }\n",
       "\n",
       "    .dataframe thead th {\n",
       "        text-align: right;\n",
       "    }\n",
       "</style>\n",
       "<table border=\"1\" class=\"dataframe\">\n",
       "  <thead>\n",
       "    <tr style=\"text-align: right;\">\n",
       "      <th></th>\n",
       "      <th>mean</th>\n",
       "      <th>std</th>\n",
       "    </tr>\n",
       "    <tr>\n",
       "      <th>BORO</th>\n",
       "      <th></th>\n",
       "      <th></th>\n",
       "    </tr>\n",
       "  </thead>\n",
       "  <tbody>\n",
       "    <tr>\n",
       "      <th>Staten Island</th>\n",
       "      <td>19.489243</td>\n",
       "      <td>12.831504</td>\n",
       "    </tr>\n",
       "    <tr>\n",
       "      <th>Bronx</th>\n",
       "      <td>20.100972</td>\n",
       "      <td>14.279932</td>\n",
       "    </tr>\n",
       "    <tr>\n",
       "      <th>Manhattan</th>\n",
       "      <td>20.464222</td>\n",
       "      <td>14.699295</td>\n",
       "    </tr>\n",
       "    <tr>\n",
       "      <th>Queens</th>\n",
       "      <td>20.271846</td>\n",
       "      <td>15.026039</td>\n",
       "    </tr>\n",
       "    <tr>\n",
       "      <th>Brooklyn</th>\n",
       "      <td>20.683136</td>\n",
       "      <td>15.347316</td>\n",
       "    </tr>\n",
       "    <tr>\n",
       "      <th>0</th>\n",
       "      <td>23.552083</td>\n",
       "      <td>17.746086</td>\n",
       "    </tr>\n",
       "  </tbody>\n",
       "</table>\n",
       "</div>"
      ],
      "text/plain": [
       "                    mean        std\n",
       "BORO                               \n",
       "Staten Island  19.489243  12.831504\n",
       "Bronx          20.100972  14.279932\n",
       "Manhattan      20.464222  14.699295\n",
       "Queens         20.271846  15.026039\n",
       "Brooklyn       20.683136  15.347316\n",
       "0              23.552083  17.746086"
      ]
     },
     "execution_count": 97,
     "metadata": {},
     "output_type": "execute_result"
    }
   ],
   "source": [
    "df.groupby('BORO')['SCORE'].agg(['mean','std']).sort_values(by=['std'],ascending=True)"
   ]
  },
  {
   "cell_type": "markdown",
   "metadata": {},
   "source": [
    "# Questions:"
   ]
  },
  {
   "cell_type": "markdown",
   "metadata": {},
   "source": [
    "## 1. Can we predict rating based on the type of the restaurant?\n"
   ]
  },
  {
   "cell_type": "code",
   "execution_count": 98,
   "metadata": {
    "scrolled": true
   },
   "outputs": [
    {
     "data": {
      "text/html": [
       "<div>\n",
       "<style scoped>\n",
       "    .dataframe tbody tr th:only-of-type {\n",
       "        vertical-align: middle;\n",
       "    }\n",
       "\n",
       "    .dataframe tbody tr th {\n",
       "        vertical-align: top;\n",
       "    }\n",
       "\n",
       "    .dataframe thead th {\n",
       "        text-align: right;\n",
       "    }\n",
       "</style>\n",
       "<table border=\"1\" class=\"dataframe\">\n",
       "  <thead>\n",
       "    <tr style=\"text-align: right;\">\n",
       "      <th></th>\n",
       "      <th>mean</th>\n",
       "      <th>count</th>\n",
       "      <th>std</th>\n",
       "    </tr>\n",
       "    <tr>\n",
       "      <th>CUISINE DESCRIPTION</th>\n",
       "      <th></th>\n",
       "      <th></th>\n",
       "      <th></th>\n",
       "    </tr>\n",
       "  </thead>\n",
       "  <tbody>\n",
       "    <tr>\n",
       "      <th>Czech</th>\n",
       "      <td>7.000000</td>\n",
       "      <td>28</td>\n",
       "      <td>0.000000</td>\n",
       "    </tr>\n",
       "    <tr>\n",
       "      <th>Basque</th>\n",
       "      <td>7.000000</td>\n",
       "      <td>4</td>\n",
       "      <td>0.000000</td>\n",
       "    </tr>\n",
       "    <tr>\n",
       "      <th>Nuts/Confectionary</th>\n",
       "      <td>7.000000</td>\n",
       "      <td>24</td>\n",
       "      <td>0.000000</td>\n",
       "    </tr>\n",
       "    <tr>\n",
       "      <th>Scandinavian</th>\n",
       "      <td>7.000000</td>\n",
       "      <td>41</td>\n",
       "      <td>0.000000</td>\n",
       "    </tr>\n",
       "    <tr>\n",
       "      <th>Soups</th>\n",
       "      <td>7.000000</td>\n",
       "      <td>32</td>\n",
       "      <td>0.000000</td>\n",
       "    </tr>\n",
       "    <tr>\n",
       "      <th>Hotdogs</th>\n",
       "      <td>6.948905</td>\n",
       "      <td>137</td>\n",
       "      <td>0.370238</td>\n",
       "    </tr>\n",
       "    <tr>\n",
       "      <th>Donuts</th>\n",
       "      <td>6.925489</td>\n",
       "      <td>3476</td>\n",
       "      <td>0.404899</td>\n",
       "    </tr>\n",
       "    <tr>\n",
       "      <th>Fruits/Vegetables</th>\n",
       "      <td>6.918919</td>\n",
       "      <td>37</td>\n",
       "      <td>0.276725</td>\n",
       "    </tr>\n",
       "    <tr>\n",
       "      <th>Not Listed/Not Applicable</th>\n",
       "      <td>6.914894</td>\n",
       "      <td>47</td>\n",
       "      <td>0.282057</td>\n",
       "    </tr>\n",
       "    <tr>\n",
       "      <th>Salads</th>\n",
       "      <td>6.909735</td>\n",
       "      <td>565</td>\n",
       "      <td>0.446413</td>\n",
       "    </tr>\n",
       "    <tr>\n",
       "      <th>Hamburgers</th>\n",
       "      <td>6.861121</td>\n",
       "      <td>2765</td>\n",
       "      <td>0.536197</td>\n",
       "    </tr>\n",
       "    <tr>\n",
       "      <th>Pancakes/Waffles</th>\n",
       "      <td>6.858333</td>\n",
       "      <td>120</td>\n",
       "      <td>0.569473</td>\n",
       "    </tr>\n",
       "    <tr>\n",
       "      <th>Cajun</th>\n",
       "      <td>6.851064</td>\n",
       "      <td>47</td>\n",
       "      <td>0.624803</td>\n",
       "    </tr>\n",
       "    <tr>\n",
       "      <th>Soups &amp; Sandwiches</th>\n",
       "      <td>6.846154</td>\n",
       "      <td>299</td>\n",
       "      <td>0.576157</td>\n",
       "    </tr>\n",
       "    <tr>\n",
       "      <th>Continental</th>\n",
       "      <td>6.830409</td>\n",
       "      <td>342</td>\n",
       "      <td>0.472604</td>\n",
       "    </tr>\n",
       "    <tr>\n",
       "      <th>English</th>\n",
       "      <td>6.821429</td>\n",
       "      <td>112</td>\n",
       "      <td>0.469124</td>\n",
       "    </tr>\n",
       "    <tr>\n",
       "      <th>Ice Cream, Gelato, Yogurt, Ices</th>\n",
       "      <td>6.819715</td>\n",
       "      <td>1897</td>\n",
       "      <td>0.669696</td>\n",
       "    </tr>\n",
       "    <tr>\n",
       "      <th>Greek</th>\n",
       "      <td>6.798937</td>\n",
       "      <td>1129</td>\n",
       "      <td>0.564429</td>\n",
       "    </tr>\n",
       "    <tr>\n",
       "      <th>Ethiopian</th>\n",
       "      <td>6.796748</td>\n",
       "      <td>123</td>\n",
       "      <td>0.511497</td>\n",
       "    </tr>\n",
       "    <tr>\n",
       "      <th>Sandwiches/Salads/Mixed Buffet</th>\n",
       "      <td>6.789969</td>\n",
       "      <td>1595</td>\n",
       "      <td>0.744128</td>\n",
       "    </tr>\n",
       "    <tr>\n",
       "      <th>Californian</th>\n",
       "      <td>6.777778</td>\n",
       "      <td>36</td>\n",
       "      <td>0.421637</td>\n",
       "    </tr>\n",
       "    <tr>\n",
       "      <th>Steak</th>\n",
       "      <td>6.776596</td>\n",
       "      <td>658</td>\n",
       "      <td>0.659966</td>\n",
       "    </tr>\n",
       "    <tr>\n",
       "      <th>Café/Coffee/Tea</th>\n",
       "      <td>6.775851</td>\n",
       "      <td>10957</td>\n",
       "      <td>0.754897</td>\n",
       "    </tr>\n",
       "    <tr>\n",
       "      <th>Irish</th>\n",
       "      <td>6.764182</td>\n",
       "      <td>1798</td>\n",
       "      <td>0.616962</td>\n",
       "    </tr>\n",
       "    <tr>\n",
       "      <th>Sandwiches</th>\n",
       "      <td>6.759267</td>\n",
       "      <td>2509</td>\n",
       "      <td>0.781208</td>\n",
       "    </tr>\n",
       "    <tr>\n",
       "      <th>French</th>\n",
       "      <td>6.746300</td>\n",
       "      <td>2365</td>\n",
       "      <td>0.708237</td>\n",
       "    </tr>\n",
       "    <tr>\n",
       "      <th>Portuguese</th>\n",
       "      <td>6.736264</td>\n",
       "      <td>91</td>\n",
       "      <td>0.742895</td>\n",
       "    </tr>\n",
       "    <tr>\n",
       "      <th>Southwestern</th>\n",
       "      <td>6.730769</td>\n",
       "      <td>26</td>\n",
       "      <td>0.452344</td>\n",
       "    </tr>\n",
       "    <tr>\n",
       "      <th>American</th>\n",
       "      <td>6.719059</td>\n",
       "      <td>43963</td>\n",
       "      <td>0.775358</td>\n",
       "    </tr>\n",
       "    <tr>\n",
       "      <th>Juice, Smoothies, Fruit Salads</th>\n",
       "      <td>6.709589</td>\n",
       "      <td>2555</td>\n",
       "      <td>0.807782</td>\n",
       "    </tr>\n",
       "    <tr>\n",
       "      <th>...</th>\n",
       "      <td>...</td>\n",
       "      <td>...</td>\n",
       "      <td>...</td>\n",
       "    </tr>\n",
       "    <tr>\n",
       "      <th>Japanese</th>\n",
       "      <td>6.565456</td>\n",
       "      <td>6936</td>\n",
       "      <td>0.927842</td>\n",
       "    </tr>\n",
       "    <tr>\n",
       "      <th>Seafood</th>\n",
       "      <td>6.555856</td>\n",
       "      <td>1477</td>\n",
       "      <td>1.052369</td>\n",
       "    </tr>\n",
       "    <tr>\n",
       "      <th>Filipino</th>\n",
       "      <td>6.553957</td>\n",
       "      <td>278</td>\n",
       "      <td>0.932158</td>\n",
       "    </tr>\n",
       "    <tr>\n",
       "      <th>Australian</th>\n",
       "      <td>6.550562</td>\n",
       "      <td>178</td>\n",
       "      <td>0.980156</td>\n",
       "    </tr>\n",
       "    <tr>\n",
       "      <th>Jewish/Kosher</th>\n",
       "      <td>6.550178</td>\n",
       "      <td>2810</td>\n",
       "      <td>0.979938</td>\n",
       "    </tr>\n",
       "    <tr>\n",
       "      <th>Chinese/Japanese</th>\n",
       "      <td>6.548387</td>\n",
       "      <td>403</td>\n",
       "      <td>0.854905</td>\n",
       "    </tr>\n",
       "    <tr>\n",
       "      <th>Mexican</th>\n",
       "      <td>6.547870</td>\n",
       "      <td>7980</td>\n",
       "      <td>0.933207</td>\n",
       "    </tr>\n",
       "    <tr>\n",
       "      <th>Korean</th>\n",
       "      <td>6.507258</td>\n",
       "      <td>2480</td>\n",
       "      <td>1.013795</td>\n",
       "    </tr>\n",
       "    <tr>\n",
       "      <th>Asian</th>\n",
       "      <td>6.506694</td>\n",
       "      <td>2913</td>\n",
       "      <td>0.975686</td>\n",
       "    </tr>\n",
       "    <tr>\n",
       "      <th>Chinese</th>\n",
       "      <td>6.506169</td>\n",
       "      <td>20588</td>\n",
       "      <td>1.001825</td>\n",
       "    </tr>\n",
       "    <tr>\n",
       "      <th>Latin (Cuban, Dominican, Puerto Rican, South &amp; Central American)</th>\n",
       "      <td>6.489391</td>\n",
       "      <td>7871</td>\n",
       "      <td>0.936949</td>\n",
       "    </tr>\n",
       "    <tr>\n",
       "      <th>Soul Food</th>\n",
       "      <td>6.480734</td>\n",
       "      <td>545</td>\n",
       "      <td>0.966391</td>\n",
       "    </tr>\n",
       "    <tr>\n",
       "      <th>Vietnamese/Cambodian/Malaysia</th>\n",
       "      <td>6.480491</td>\n",
       "      <td>897</td>\n",
       "      <td>0.913630</td>\n",
       "    </tr>\n",
       "    <tr>\n",
       "      <th>Egyptian</th>\n",
       "      <td>6.473118</td>\n",
       "      <td>93</td>\n",
       "      <td>0.854545</td>\n",
       "    </tr>\n",
       "    <tr>\n",
       "      <th>Delicatessen</th>\n",
       "      <td>6.469180</td>\n",
       "      <td>3050</td>\n",
       "      <td>0.957545</td>\n",
       "    </tr>\n",
       "    <tr>\n",
       "      <th>Pakistani</th>\n",
       "      <td>6.461538</td>\n",
       "      <td>273</td>\n",
       "      <td>1.111183</td>\n",
       "    </tr>\n",
       "    <tr>\n",
       "      <th>Moroccan</th>\n",
       "      <td>6.457143</td>\n",
       "      <td>70</td>\n",
       "      <td>0.735945</td>\n",
       "    </tr>\n",
       "    <tr>\n",
       "      <th>Thai</th>\n",
       "      <td>6.450842</td>\n",
       "      <td>2553</td>\n",
       "      <td>1.032786</td>\n",
       "    </tr>\n",
       "    <tr>\n",
       "      <th>Spanish</th>\n",
       "      <td>6.422608</td>\n",
       "      <td>5582</td>\n",
       "      <td>0.998123</td>\n",
       "    </tr>\n",
       "    <tr>\n",
       "      <th>Indian</th>\n",
       "      <td>6.417031</td>\n",
       "      <td>2971</td>\n",
       "      <td>1.012098</td>\n",
       "    </tr>\n",
       "    <tr>\n",
       "      <th>Other</th>\n",
       "      <td>6.410383</td>\n",
       "      <td>809</td>\n",
       "      <td>1.537386</td>\n",
       "    </tr>\n",
       "    <tr>\n",
       "      <th>Caribbean</th>\n",
       "      <td>6.390353</td>\n",
       "      <td>6489</td>\n",
       "      <td>1.049649</td>\n",
       "    </tr>\n",
       "    <tr>\n",
       "      <th>Peruvian</th>\n",
       "      <td>6.387249</td>\n",
       "      <td>847</td>\n",
       "      <td>1.019307</td>\n",
       "    </tr>\n",
       "    <tr>\n",
       "      <th>Afghan</th>\n",
       "      <td>6.356522</td>\n",
       "      <td>115</td>\n",
       "      <td>1.482005</td>\n",
       "    </tr>\n",
       "    <tr>\n",
       "      <th>Creole</th>\n",
       "      <td>6.288889</td>\n",
       "      <td>225</td>\n",
       "      <td>1.004948</td>\n",
       "    </tr>\n",
       "    <tr>\n",
       "      <th>Indonesian</th>\n",
       "      <td>6.262295</td>\n",
       "      <td>61</td>\n",
       "      <td>1.611435</td>\n",
       "    </tr>\n",
       "    <tr>\n",
       "      <th>Chinese/Cuban</th>\n",
       "      <td>6.260638</td>\n",
       "      <td>188</td>\n",
       "      <td>1.034767</td>\n",
       "    </tr>\n",
       "    <tr>\n",
       "      <th>Creole/Cajun</th>\n",
       "      <td>6.189655</td>\n",
       "      <td>58</td>\n",
       "      <td>0.907220</td>\n",
       "    </tr>\n",
       "    <tr>\n",
       "      <th>African</th>\n",
       "      <td>6.130496</td>\n",
       "      <td>705</td>\n",
       "      <td>1.184652</td>\n",
       "    </tr>\n",
       "    <tr>\n",
       "      <th>Bangladeshi</th>\n",
       "      <td>5.920949</td>\n",
       "      <td>506</td>\n",
       "      <td>1.395068</td>\n",
       "    </tr>\n",
       "  </tbody>\n",
       "</table>\n",
       "<p>84 rows × 3 columns</p>\n",
       "</div>"
      ],
      "text/plain": [
       "                                                        mean  count       std\n",
       "CUISINE DESCRIPTION                                                          \n",
       "Czech                                               7.000000     28  0.000000\n",
       "Basque                                              7.000000      4  0.000000\n",
       "Nuts/Confectionary                                  7.000000     24  0.000000\n",
       "Scandinavian                                        7.000000     41  0.000000\n",
       "Soups                                               7.000000     32  0.000000\n",
       "Hotdogs                                             6.948905    137  0.370238\n",
       "Donuts                                              6.925489   3476  0.404899\n",
       "Fruits/Vegetables                                   6.918919     37  0.276725\n",
       "Not Listed/Not Applicable                           6.914894     47  0.282057\n",
       "Salads                                              6.909735    565  0.446413\n",
       "Hamburgers                                          6.861121   2765  0.536197\n",
       "Pancakes/Waffles                                    6.858333    120  0.569473\n",
       "Cajun                                               6.851064     47  0.624803\n",
       "Soups & Sandwiches                                  6.846154    299  0.576157\n",
       "Continental                                         6.830409    342  0.472604\n",
       "English                                             6.821429    112  0.469124\n",
       "Ice Cream, Gelato, Yogurt, Ices                     6.819715   1897  0.669696\n",
       "Greek                                               6.798937   1129  0.564429\n",
       "Ethiopian                                           6.796748    123  0.511497\n",
       "Sandwiches/Salads/Mixed Buffet                      6.789969   1595  0.744128\n",
       "Californian                                         6.777778     36  0.421637\n",
       "Steak                                               6.776596    658  0.659966\n",
       "Café/Coffee/Tea                                     6.775851  10957  0.754897\n",
       "Irish                                               6.764182   1798  0.616962\n",
       "Sandwiches                                          6.759267   2509  0.781208\n",
       "French                                              6.746300   2365  0.708237\n",
       "Portuguese                                          6.736264     91  0.742895\n",
       "Southwestern                                        6.730769     26  0.452344\n",
       "American                                            6.719059  43963  0.775358\n",
       "Juice, Smoothies, Fruit Salads                      6.709589   2555  0.807782\n",
       "...                                                      ...    ...       ...\n",
       "Japanese                                            6.565456   6936  0.927842\n",
       "Seafood                                             6.555856   1477  1.052369\n",
       "Filipino                                            6.553957    278  0.932158\n",
       "Australian                                          6.550562    178  0.980156\n",
       "Jewish/Kosher                                       6.550178   2810  0.979938\n",
       "Chinese/Japanese                                    6.548387    403  0.854905\n",
       "Mexican                                             6.547870   7980  0.933207\n",
       "Korean                                              6.507258   2480  1.013795\n",
       "Asian                                               6.506694   2913  0.975686\n",
       "Chinese                                             6.506169  20588  1.001825\n",
       "Latin (Cuban, Dominican, Puerto Rican, South & ...  6.489391   7871  0.936949\n",
       "Soul Food                                           6.480734    545  0.966391\n",
       "Vietnamese/Cambodian/Malaysia                       6.480491    897  0.913630\n",
       "Egyptian                                            6.473118     93  0.854545\n",
       "Delicatessen                                        6.469180   3050  0.957545\n",
       "Pakistani                                           6.461538    273  1.111183\n",
       "Moroccan                                            6.457143     70  0.735945\n",
       "Thai                                                6.450842   2553  1.032786\n",
       "Spanish                                             6.422608   5582  0.998123\n",
       "Indian                                              6.417031   2971  1.012098\n",
       "Other                                               6.410383    809  1.537386\n",
       "Caribbean                                           6.390353   6489  1.049649\n",
       "Peruvian                                            6.387249    847  1.019307\n",
       "Afghan                                              6.356522    115  1.482005\n",
       "Creole                                              6.288889    225  1.004948\n",
       "Indonesian                                          6.262295     61  1.611435\n",
       "Chinese/Cuban                                       6.260638    188  1.034767\n",
       "Creole/Cajun                                        6.189655     58  0.907220\n",
       "African                                             6.130496    705  1.184652\n",
       "Bangladeshi                                         5.920949    506  1.395068\n",
       "\n",
       "[84 rows x 3 columns]"
      ]
     },
     "execution_count": 98,
     "metadata": {},
     "output_type": "execute_result"
    }
   ],
   "source": [
    "grade_sub.groupby('CUISINE DESCRIPTION')['GRADE'].agg(['mean','count','std']).sort_values('mean',ascending=False)\n"
   ]
  },
  {
   "cell_type": "code",
   "execution_count": 99,
   "metadata": {},
   "outputs": [
    {
     "data": {
      "text/html": [
       "<div>\n",
       "<style scoped>\n",
       "    .dataframe tbody tr th:only-of-type {\n",
       "        vertical-align: middle;\n",
       "    }\n",
       "\n",
       "    .dataframe tbody tr th {\n",
       "        vertical-align: top;\n",
       "    }\n",
       "\n",
       "    .dataframe thead th {\n",
       "        text-align: right;\n",
       "    }\n",
       "</style>\n",
       "<table border=\"1\" class=\"dataframe\">\n",
       "  <thead>\n",
       "    <tr style=\"text-align: right;\">\n",
       "      <th></th>\n",
       "      <th>mean</th>\n",
       "      <th>count</th>\n",
       "      <th>std</th>\n",
       "    </tr>\n",
       "    <tr>\n",
       "      <th>CUISINE DESCRIPTION</th>\n",
       "      <th></th>\n",
       "      <th></th>\n",
       "      <th></th>\n",
       "    </tr>\n",
       "  </thead>\n",
       "  <tbody>\n",
       "    <tr>\n",
       "      <th>American</th>\n",
       "      <td>6.719059</td>\n",
       "      <td>43963</td>\n",
       "      <td>0.775358</td>\n",
       "    </tr>\n",
       "    <tr>\n",
       "      <th>Chinese</th>\n",
       "      <td>6.506169</td>\n",
       "      <td>20588</td>\n",
       "      <td>1.001825</td>\n",
       "    </tr>\n",
       "    <tr>\n",
       "      <th>Café/Coffee/Tea</th>\n",
       "      <td>6.775851</td>\n",
       "      <td>10957</td>\n",
       "      <td>0.754897</td>\n",
       "    </tr>\n",
       "    <tr>\n",
       "      <th>Pizza</th>\n",
       "      <td>6.655091</td>\n",
       "      <td>8898</td>\n",
       "      <td>0.846979</td>\n",
       "    </tr>\n",
       "    <tr>\n",
       "      <th>Mexican</th>\n",
       "      <td>6.547870</td>\n",
       "      <td>7980</td>\n",
       "      <td>0.933207</td>\n",
       "    </tr>\n",
       "    <tr>\n",
       "      <th>Italian</th>\n",
       "      <td>6.693494</td>\n",
       "      <td>7977</td>\n",
       "      <td>0.744387</td>\n",
       "    </tr>\n",
       "    <tr>\n",
       "      <th>Latin (Cuban, Dominican, Puerto Rican, South &amp; Central American)</th>\n",
       "      <td>6.489391</td>\n",
       "      <td>7871</td>\n",
       "      <td>0.936949</td>\n",
       "    </tr>\n",
       "    <tr>\n",
       "      <th>Japanese</th>\n",
       "      <td>6.565456</td>\n",
       "      <td>6936</td>\n",
       "      <td>0.927842</td>\n",
       "    </tr>\n",
       "    <tr>\n",
       "      <th>Caribbean</th>\n",
       "      <td>6.390353</td>\n",
       "      <td>6489</td>\n",
       "      <td>1.049649</td>\n",
       "    </tr>\n",
       "    <tr>\n",
       "      <th>Bakery</th>\n",
       "      <td>6.602740</td>\n",
       "      <td>6424</td>\n",
       "      <td>0.901518</td>\n",
       "    </tr>\n",
       "  </tbody>\n",
       "</table>\n",
       "</div>"
      ],
      "text/plain": [
       "                                                        mean  count       std\n",
       "CUISINE DESCRIPTION                                                          \n",
       "American                                            6.719059  43963  0.775358\n",
       "Chinese                                             6.506169  20588  1.001825\n",
       "Café/Coffee/Tea                                     6.775851  10957  0.754897\n",
       "Pizza                                               6.655091   8898  0.846979\n",
       "Mexican                                             6.547870   7980  0.933207\n",
       "Italian                                             6.693494   7977  0.744387\n",
       "Latin (Cuban, Dominican, Puerto Rican, South & ...  6.489391   7871  0.936949\n",
       "Japanese                                            6.565456   6936  0.927842\n",
       "Caribbean                                           6.390353   6489  1.049649\n",
       "Bakery                                              6.602740   6424  0.901518"
      ]
     },
     "execution_count": 99,
     "metadata": {},
     "output_type": "execute_result"
    }
   ],
   "source": [
    "top_cuisine_with_grade=grade_sub.groupby('CUISINE DESCRIPTION')['GRADE'].agg(['mean','count','std']).sort_values('count',ascending=False).head(10)\n",
    "top_cuisine_with_grade"
   ]
  },
  {
   "cell_type": "code",
   "execution_count": 100,
   "metadata": {},
   "outputs": [
    {
     "data": {
      "text/html": [
       "<div>\n",
       "<style scoped>\n",
       "    .dataframe tbody tr th:only-of-type {\n",
       "        vertical-align: middle;\n",
       "    }\n",
       "\n",
       "    .dataframe tbody tr th {\n",
       "        vertical-align: top;\n",
       "    }\n",
       "\n",
       "    .dataframe thead th {\n",
       "        text-align: right;\n",
       "    }\n",
       "</style>\n",
       "<table border=\"1\" class=\"dataframe\">\n",
       "  <thead>\n",
       "    <tr style=\"text-align: right;\">\n",
       "      <th></th>\n",
       "      <th>mean</th>\n",
       "      <th>count</th>\n",
       "      <th>std</th>\n",
       "    </tr>\n",
       "    <tr>\n",
       "      <th>CUISINE DESCRIPTION</th>\n",
       "      <th></th>\n",
       "      <th></th>\n",
       "      <th></th>\n",
       "    </tr>\n",
       "  </thead>\n",
       "  <tbody>\n",
       "    <tr>\n",
       "      <th>Scandinavian</th>\n",
       "      <td>7.000000</td>\n",
       "      <td>41</td>\n",
       "      <td>0.000000</td>\n",
       "    </tr>\n",
       "    <tr>\n",
       "      <th>Fruits/Vegetables</th>\n",
       "      <td>6.918919</td>\n",
       "      <td>37</td>\n",
       "      <td>0.276725</td>\n",
       "    </tr>\n",
       "    <tr>\n",
       "      <th>Californian</th>\n",
       "      <td>6.777778</td>\n",
       "      <td>36</td>\n",
       "      <td>0.421637</td>\n",
       "    </tr>\n",
       "    <tr>\n",
       "      <th>Soups</th>\n",
       "      <td>7.000000</td>\n",
       "      <td>32</td>\n",
       "      <td>0.000000</td>\n",
       "    </tr>\n",
       "    <tr>\n",
       "      <th>Iranian</th>\n",
       "      <td>6.612903</td>\n",
       "      <td>31</td>\n",
       "      <td>0.803219</td>\n",
       "    </tr>\n",
       "    <tr>\n",
       "      <th>Czech</th>\n",
       "      <td>7.000000</td>\n",
       "      <td>28</td>\n",
       "      <td>0.000000</td>\n",
       "    </tr>\n",
       "    <tr>\n",
       "      <th>Southwestern</th>\n",
       "      <td>6.730769</td>\n",
       "      <td>26</td>\n",
       "      <td>0.452344</td>\n",
       "    </tr>\n",
       "    <tr>\n",
       "      <th>Nuts/Confectionary</th>\n",
       "      <td>7.000000</td>\n",
       "      <td>24</td>\n",
       "      <td>0.000000</td>\n",
       "    </tr>\n",
       "    <tr>\n",
       "      <th>Chilean</th>\n",
       "      <td>6.692308</td>\n",
       "      <td>13</td>\n",
       "      <td>1.109400</td>\n",
       "    </tr>\n",
       "    <tr>\n",
       "      <th>Basque</th>\n",
       "      <td>7.000000</td>\n",
       "      <td>4</td>\n",
       "      <td>0.000000</td>\n",
       "    </tr>\n",
       "  </tbody>\n",
       "</table>\n",
       "</div>"
      ],
      "text/plain": [
       "                         mean  count       std\n",
       "CUISINE DESCRIPTION                           \n",
       "Scandinavian         7.000000     41  0.000000\n",
       "Fruits/Vegetables    6.918919     37  0.276725\n",
       "Californian          6.777778     36  0.421637\n",
       "Soups                7.000000     32  0.000000\n",
       "Iranian              6.612903     31  0.803219\n",
       "Czech                7.000000     28  0.000000\n",
       "Southwestern         6.730769     26  0.452344\n",
       "Nuts/Confectionary   7.000000     24  0.000000\n",
       "Chilean              6.692308     13  1.109400\n",
       "Basque               7.000000      4  0.000000"
      ]
     },
     "execution_count": 100,
     "metadata": {},
     "output_type": "execute_result"
    }
   ],
   "source": [
    "bottom_cuisine_with_grade=grade_sub.groupby('CUISINE DESCRIPTION')['GRADE'].agg(['mean','count','std']).sort_values('count',ascending=False).tail(10)\n",
    "bottom_cuisine_with_grade"
   ]
  },
  {
   "cell_type": "code",
   "execution_count": 101,
   "metadata": {},
   "outputs": [],
   "source": [
    "top_cuisine_with_grade=top_cuisine_with_grade.reset_index()"
   ]
  },
  {
   "cell_type": "code",
   "execution_count": 102,
   "metadata": {},
   "outputs": [
    {
     "data": {
      "text/plain": [
       "<seaborn.axisgrid.FacetGrid at 0x1a49d7e320>"
      ]
     },
     "execution_count": 102,
     "metadata": {},
     "output_type": "execute_result"
    },
    {
     "data": {
      "image/png": "[encoded data removed]",
      "text/plain": [
       "<Figure size 360x360 with 1 Axes>"
      ]
     },
     "metadata": {
      "needs_background": "light"
     },
     "output_type": "display_data"
    }
   ],
   "source": [
    "sns.catplot(x='mean',y='CUISINE DESCRIPTION',data=top_cuisine_with_grade)"
   ]
  },
  {
   "cell_type": "code",
   "execution_count": 103,
   "metadata": {},
   "outputs": [],
   "source": [
    "bottom_cuisine_with_grade=bottom_cuisine_with_grade.reset_index()"
   ]
  },
  {
   "cell_type": "code",
   "execution_count": 104,
   "metadata": {},
   "outputs": [
    {
     "data": {
      "text/plain": [
       "<seaborn.axisgrid.FacetGrid at 0x1a4af26a58>"
      ]
     },
     "execution_count": 104,
     "metadata": {},
     "output_type": "execute_result"
    },
    {
     "data": {
      "image/png": "[encoded data removed]",
      "text/plain": [
       "<Figure size 360x360 with 1 Axes>"
      ]
     },
     "metadata": {
      "needs_background": "light"
     },
     "output_type": "display_data"
    }
   ],
   "source": [
    "sns.catplot(x='mean',y='CUISINE DESCRIPTION',data=bottom_cuisine_with_grade)"
   ]
  },
  {
   "cell_type": "markdown",
   "metadata": {},
   "source": [
    "### Type popularities do not affect their grading. Some lowest popular types of the restaurant (at the bottom of the popularity list) are graded high, such as “Soups”, “Czech”, and “Basque”, when comparing the mean for each cuisine. At same time, the highest popular cuisine does not mean always graded well. We cannot predict rating based on the popularities of the restaurant."
   ]
  },
  {
   "cell_type": "markdown",
   "metadata": {},
   "source": [
    "##  2. Can we predict popularity based on the type of the restaurant?"
   ]
  },
  {
   "cell_type": "code",
   "execution_count": 105,
   "metadata": {
    "jupyter": {
     "outputs_hidden": true
    }
   },
   "outputs": [
    {
     "data": {
      "text/html": [
       "<div>\n",
       "<style scoped>\n",
       "    .dataframe tbody tr th:only-of-type {\n",
       "        vertical-align: middle;\n",
       "    }\n",
       "\n",
       "    .dataframe tbody tr th {\n",
       "        vertical-align: top;\n",
       "    }\n",
       "\n",
       "    .dataframe thead th {\n",
       "        text-align: right;\n",
       "    }\n",
       "</style>\n",
       "<table border=\"1\" class=\"dataframe\">\n",
       "  <thead>\n",
       "    <tr style=\"text-align: right;\">\n",
       "      <th></th>\n",
       "      <th>CUISINE DESCRIPTION</th>\n",
       "      <th>Manhattan</th>\n",
       "      <th>Brooklyn</th>\n",
       "      <th>Queens</th>\n",
       "      <th>Bronx</th>\n",
       "      <th>StatenIsland</th>\n",
       "    </tr>\n",
       "  </thead>\n",
       "  <tbody>\n",
       "    <tr>\n",
       "      <th>0</th>\n",
       "      <td>American</td>\n",
       "      <td>43039</td>\n",
       "      <td>18277.0</td>\n",
       "      <td>13218.0</td>\n",
       "      <td>5549.0</td>\n",
       "      <td>3087.0</td>\n",
       "    </tr>\n",
       "    <tr>\n",
       "      <th>1</th>\n",
       "      <td>Chinese</td>\n",
       "      <td>10778</td>\n",
       "      <td>12627.0</td>\n",
       "      <td>13147.0</td>\n",
       "      <td>4269.0</td>\n",
       "      <td>1181.0</td>\n",
       "    </tr>\n",
       "    <tr>\n",
       "      <th>2</th>\n",
       "      <td>Café/Coffee/Tea</td>\n",
       "      <td>10186</td>\n",
       "      <td>5334.0</td>\n",
       "      <td>2660.0</td>\n",
       "      <td>742.0</td>\n",
       "      <td>270.0</td>\n",
       "    </tr>\n",
       "    <tr>\n",
       "      <th>3</th>\n",
       "      <td>Italian</td>\n",
       "      <td>9525</td>\n",
       "      <td>2633.0</td>\n",
       "      <td>1743.0</td>\n",
       "      <td>857.0</td>\n",
       "      <td>1183.0</td>\n",
       "    </tr>\n",
       "    <tr>\n",
       "      <th>4</th>\n",
       "      <td>Japanese</td>\n",
       "      <td>7799</td>\n",
       "      <td>3035.0</td>\n",
       "      <td>2500.0</td>\n",
       "      <td>300.0</td>\n",
       "      <td>560.0</td>\n",
       "    </tr>\n",
       "    <tr>\n",
       "      <th>5</th>\n",
       "      <td>Pizza</td>\n",
       "      <td>5507</td>\n",
       "      <td>4395.0</td>\n",
       "      <td>3948.0</td>\n",
       "      <td>2809.0</td>\n",
       "      <td>790.0</td>\n",
       "    </tr>\n",
       "    <tr>\n",
       "      <th>6</th>\n",
       "      <td>Mexican</td>\n",
       "      <td>5296</td>\n",
       "      <td>4909.0</td>\n",
       "      <td>3167.0</td>\n",
       "      <td>2164.0</td>\n",
       "      <td>725.0</td>\n",
       "    </tr>\n",
       "    <tr>\n",
       "      <th>7</th>\n",
       "      <td>Latin</td>\n",
       "      <td>4098</td>\n",
       "      <td>2952.0</td>\n",
       "      <td>6480.0</td>\n",
       "      <td>3549.0</td>\n",
       "      <td>173.0</td>\n",
       "    </tr>\n",
       "    <tr>\n",
       "      <th>8</th>\n",
       "      <td>Bakery</td>\n",
       "      <td>3703</td>\n",
       "      <td>3368.0</td>\n",
       "      <td>3659.0</td>\n",
       "      <td>1199.0</td>\n",
       "      <td>428.0</td>\n",
       "    </tr>\n",
       "    <tr>\n",
       "      <th>9</th>\n",
       "      <td>French</td>\n",
       "      <td>3616</td>\n",
       "      <td>727.0</td>\n",
       "      <td>198.0</td>\n",
       "      <td>13.0</td>\n",
       "      <td>NaN</td>\n",
       "    </tr>\n",
       "  </tbody>\n",
       "</table>\n",
       "</div>"
      ],
      "text/plain": [
       "  CUISINE DESCRIPTION  Manhattan  Brooklyn   Queens   Bronx  StatenIsland\n",
       "0            American      43039   18277.0  13218.0  5549.0        3087.0\n",
       "1             Chinese      10778   12627.0  13147.0  4269.0        1181.0\n",
       "2     Café/Coffee/Tea      10186    5334.0   2660.0   742.0         270.0\n",
       "3             Italian       9525    2633.0   1743.0   857.0        1183.0\n",
       "4            Japanese       7799    3035.0   2500.0   300.0         560.0\n",
       "5               Pizza       5507    4395.0   3948.0  2809.0         790.0\n",
       "6             Mexican       5296    4909.0   3167.0  2164.0         725.0\n",
       "7               Latin       4098    2952.0   6480.0  3549.0         173.0\n",
       "8              Bakery       3703    3368.0   3659.0  1199.0         428.0\n",
       "9              French       3616     727.0    198.0    13.0           NaN"
      ]
     },
     "execution_count": 105,
     "metadata": {},
     "output_type": "execute_result"
    }
   ],
   "source": [
    "total=a.assign(Brooklyn=b['count'],Queens=c['count'],Bronx=d['count'],StatenIsland=e['count'])\n",
    "total=total.head(10).reset_index()\n",
    "\n",
    "total[\"CUISINE DESCRIPTION\"]= total[\"CUISINE DESCRIPTION\"].replace( 'Latin (Cuban, Dominican, Puerto Rican, South & Central American)', \"Latin\")\n",
    "\n",
    "total"
   ]
  },
  {
   "cell_type": "code",
   "execution_count": 106,
   "metadata": {
    "jupyter": {
     "outputs_hidden": true
    }
   },
   "outputs": [
    {
     "data": {
      "text/plain": [
       "<seaborn.axisgrid.FacetGrid at 0x1a4b7cc048>"
      ]
     },
     "execution_count": 106,
     "metadata": {},
     "output_type": "execute_result"
    },
    {
     "data": {
      "image/png": "[encoded data removed]",
      "text/plain": [
       "<Figure size 360x360 with 1 Axes>"
      ]
     },
     "metadata": {
      "needs_background": "light"
     },
     "output_type": "display_data"
    },
    {
     "data": {
      "image/png": "[encoded data removed]",
      "text/plain": [
       "<Figure size 360x360 with 1 Axes>"
      ]
     },
     "metadata": {
      "needs_background": "light"
     },
     "output_type": "display_data"
    },
    {
     "data": {
      "image/png": "[encoded data removed]",
      "text/plain": [
       "<Figure size 360x360 with 1 Axes>"
      ]
     },
     "metadata": {
      "needs_background": "light"
     },
     "output_type": "display_data"
    },
    {
     "data": {
      "image/png": "[encoded data removed]",
      "text/plain": [
       "<Figure size 360x360 with 1 Axes>"
      ]
     },
     "metadata": {
      "needs_background": "light"
     },
     "output_type": "display_data"
    },
    {
     "data": {
      "image/png": "[encoded data removed]",
      "text/plain": [
       "<Figure size 360x360 with 1 Axes>"
      ]
     },
     "metadata": {
      "needs_background": "light"
     },
     "output_type": "display_data"
    }
   ],
   "source": [
    "total1=total.reset_index()\n",
    "graph_m=sns.catplot(x='Manhattan', y='CUISINE DESCRIPTION',kind='bar',data=total1)\n",
    "graph_m\n",
    "graph_b=sns.catplot(x='Brooklyn', y='CUISINE DESCRIPTION',kind='bar',data=total1)\n",
    "graph_b\n",
    "graph_q=sns.catplot(x='Queens', y='CUISINE DESCRIPTION',kind='bar',data=total1)\n",
    "graph_q\n",
    "graph_bb=sns.catplot(x='Bronx', y='CUISINE DESCRIPTION',kind='bar',data=total1)\n",
    "graph_bb\n",
    "graph_s=sns.catplot(x='StatenIsland', y='CUISINE DESCRIPTION',kind='bar',data=total1)\n",
    "graph_s"
   ]
  },
  {
   "cell_type": "code",
   "execution_count": 107,
   "metadata": {
    "jupyter": {
     "outputs_hidden": true
    }
   },
   "outputs": [
    {
     "data": {
      "text/html": [
       "<div>\n",
       "<style scoped>\n",
       "    .dataframe tbody tr th:only-of-type {\n",
       "        vertical-align: middle;\n",
       "    }\n",
       "\n",
       "    .dataframe tbody tr th {\n",
       "        vertical-align: top;\n",
       "    }\n",
       "\n",
       "    .dataframe thead th {\n",
       "        text-align: right;\n",
       "    }\n",
       "</style>\n",
       "<table border=\"1\" class=\"dataframe\">\n",
       "  <thead>\n",
       "    <tr style=\"text-align: right;\">\n",
       "      <th></th>\n",
       "      <th>Manhattan</th>\n",
       "      <th>Brooklyn</th>\n",
       "      <th>Queens</th>\n",
       "      <th>Bronx</th>\n",
       "      <th>StatenIsland</th>\n",
       "    </tr>\n",
       "    <tr>\n",
       "      <th>CUISINE DESCRIPTION</th>\n",
       "      <th></th>\n",
       "      <th></th>\n",
       "      <th></th>\n",
       "      <th></th>\n",
       "      <th></th>\n",
       "    </tr>\n",
       "  </thead>\n",
       "  <tbody>\n",
       "    <tr>\n",
       "      <th>American</th>\n",
       "      <td>43039.0</td>\n",
       "      <td>18277.0</td>\n",
       "      <td>13218.0</td>\n",
       "      <td>5549.0</td>\n",
       "      <td>3087.0</td>\n",
       "    </tr>\n",
       "    <tr>\n",
       "      <th>Chinese</th>\n",
       "      <td>10778.0</td>\n",
       "      <td>12627.0</td>\n",
       "      <td>13147.0</td>\n",
       "      <td>4269.0</td>\n",
       "      <td>1181.0</td>\n",
       "    </tr>\n",
       "    <tr>\n",
       "      <th>Café/Coffee/Tea</th>\n",
       "      <td>10186.0</td>\n",
       "      <td>5334.0</td>\n",
       "      <td>2660.0</td>\n",
       "      <td>742.0</td>\n",
       "      <td>270.0</td>\n",
       "    </tr>\n",
       "    <tr>\n",
       "      <th>Italian</th>\n",
       "      <td>9525.0</td>\n",
       "      <td>2633.0</td>\n",
       "      <td>1743.0</td>\n",
       "      <td>857.0</td>\n",
       "      <td>1183.0</td>\n",
       "    </tr>\n",
       "    <tr>\n",
       "      <th>Japanese</th>\n",
       "      <td>7799.0</td>\n",
       "      <td>3035.0</td>\n",
       "      <td>2500.0</td>\n",
       "      <td>300.0</td>\n",
       "      <td>560.0</td>\n",
       "    </tr>\n",
       "    <tr>\n",
       "      <th>Pizza</th>\n",
       "      <td>5507.0</td>\n",
       "      <td>4395.0</td>\n",
       "      <td>3948.0</td>\n",
       "      <td>2809.0</td>\n",
       "      <td>790.0</td>\n",
       "    </tr>\n",
       "    <tr>\n",
       "      <th>Mexican</th>\n",
       "      <td>5296.0</td>\n",
       "      <td>4909.0</td>\n",
       "      <td>3167.0</td>\n",
       "      <td>2164.0</td>\n",
       "      <td>725.0</td>\n",
       "    </tr>\n",
       "    <tr>\n",
       "      <th>Latin</th>\n",
       "      <td>4098.0</td>\n",
       "      <td>2952.0</td>\n",
       "      <td>6480.0</td>\n",
       "      <td>3549.0</td>\n",
       "      <td>173.0</td>\n",
       "    </tr>\n",
       "    <tr>\n",
       "      <th>Bakery</th>\n",
       "      <td>3703.0</td>\n",
       "      <td>3368.0</td>\n",
       "      <td>3659.0</td>\n",
       "      <td>1199.0</td>\n",
       "      <td>428.0</td>\n",
       "    </tr>\n",
       "    <tr>\n",
       "      <th>French</th>\n",
       "      <td>3616.0</td>\n",
       "      <td>727.0</td>\n",
       "      <td>198.0</td>\n",
       "      <td>13.0</td>\n",
       "      <td>NaN</td>\n",
       "    </tr>\n",
       "    <tr>\n",
       "      <th>Total</th>\n",
       "      <td>103547.0</td>\n",
       "      <td>58257.0</td>\n",
       "      <td>50720.0</td>\n",
       "      <td>21451.0</td>\n",
       "      <td>8397.0</td>\n",
       "    </tr>\n",
       "  </tbody>\n",
       "</table>\n",
       "</div>"
      ],
      "text/plain": [
       "                     Manhattan  Brooklyn   Queens    Bronx  StatenIsland\n",
       "CUISINE DESCRIPTION                                                     \n",
       "American               43039.0   18277.0  13218.0   5549.0        3087.0\n",
       "Chinese                10778.0   12627.0  13147.0   4269.0        1181.0\n",
       "Café/Coffee/Tea        10186.0    5334.0   2660.0    742.0         270.0\n",
       "Italian                 9525.0    2633.0   1743.0    857.0        1183.0\n",
       "Japanese                7799.0    3035.0   2500.0    300.0         560.0\n",
       "Pizza                   5507.0    4395.0   3948.0   2809.0         790.0\n",
       "Mexican                 5296.0    4909.0   3167.0   2164.0         725.0\n",
       "Latin                   4098.0    2952.0   6480.0   3549.0         173.0\n",
       "Bakery                  3703.0    3368.0   3659.0   1199.0         428.0\n",
       "French                  3616.0     727.0    198.0     13.0           NaN\n",
       "Total                 103547.0   58257.0  50720.0  21451.0        8397.0"
      ]
     },
     "execution_count": 107,
     "metadata": {},
     "output_type": "execute_result"
    }
   ],
   "source": [
    "total_per=total\n",
    "total_per.set_index('CUISINE DESCRIPTION', inplace=True)\n",
    "total_per.loc['Total',:]= total_per.sum(axis=0)\n",
    "total_per"
   ]
  },
  {
   "cell_type": "code",
   "execution_count": 108,
   "metadata": {
    "jupyter": {
     "outputs_hidden": true
    }
   },
   "outputs": [],
   "source": [
    "total_per.Manhattan = total_per.Manhattan*100/103547"
   ]
  },
  {
   "cell_type": "code",
   "execution_count": 109,
   "metadata": {
    "jupyter": {
     "outputs_hidden": true
    }
   },
   "outputs": [],
   "source": [
    "total_per.Brooklyn = total_per.Brooklyn*100/58257"
   ]
  },
  {
   "cell_type": "code",
   "execution_count": 110,
   "metadata": {
    "jupyter": {
     "outputs_hidden": true
    }
   },
   "outputs": [],
   "source": [
    "total_per.Queens = total_per.Queens*100/50720"
   ]
  },
  {
   "cell_type": "code",
   "execution_count": 111,
   "metadata": {
    "jupyter": {
     "outputs_hidden": true
    }
   },
   "outputs": [],
   "source": [
    "total_per.Bronx = total_per.Bronx*100/21451"
   ]
  },
  {
   "cell_type": "code",
   "execution_count": 112,
   "metadata": {
    "jupyter": {
     "outputs_hidden": true
    },
    "scrolled": true
   },
   "outputs": [
    {
     "data": {
      "text/html": [
       "<div>\n",
       "<style scoped>\n",
       "    .dataframe tbody tr th:only-of-type {\n",
       "        vertical-align: middle;\n",
       "    }\n",
       "\n",
       "    .dataframe tbody tr th {\n",
       "        vertical-align: top;\n",
       "    }\n",
       "\n",
       "    .dataframe thead th {\n",
       "        text-align: right;\n",
       "    }\n",
       "</style>\n",
       "<table border=\"1\" class=\"dataframe\">\n",
       "  <thead>\n",
       "    <tr style=\"text-align: right;\">\n",
       "      <th></th>\n",
       "      <th>Manhattan</th>\n",
       "      <th>Brooklyn</th>\n",
       "      <th>Queens</th>\n",
       "      <th>Bronx</th>\n",
       "      <th>StatenIsland</th>\n",
       "    </tr>\n",
       "    <tr>\n",
       "      <th>CUISINE DESCRIPTION</th>\n",
       "      <th></th>\n",
       "      <th></th>\n",
       "      <th></th>\n",
       "      <th></th>\n",
       "      <th></th>\n",
       "    </tr>\n",
       "  </thead>\n",
       "  <tbody>\n",
       "    <tr>\n",
       "      <th>American</th>\n",
       "      <td>41.56</td>\n",
       "      <td>31.37</td>\n",
       "      <td>26.06</td>\n",
       "      <td>25.87</td>\n",
       "      <td>36.76</td>\n",
       "    </tr>\n",
       "    <tr>\n",
       "      <th>Chinese</th>\n",
       "      <td>10.41</td>\n",
       "      <td>21.67</td>\n",
       "      <td>25.92</td>\n",
       "      <td>19.90</td>\n",
       "      <td>14.06</td>\n",
       "    </tr>\n",
       "    <tr>\n",
       "      <th>Café/Coffee/Tea</th>\n",
       "      <td>9.84</td>\n",
       "      <td>9.16</td>\n",
       "      <td>5.24</td>\n",
       "      <td>3.46</td>\n",
       "      <td>3.22</td>\n",
       "    </tr>\n",
       "    <tr>\n",
       "      <th>Italian</th>\n",
       "      <td>9.20</td>\n",
       "      <td>4.52</td>\n",
       "      <td>3.44</td>\n",
       "      <td>4.00</td>\n",
       "      <td>14.09</td>\n",
       "    </tr>\n",
       "    <tr>\n",
       "      <th>Japanese</th>\n",
       "      <td>7.53</td>\n",
       "      <td>5.21</td>\n",
       "      <td>4.93</td>\n",
       "      <td>1.40</td>\n",
       "      <td>6.67</td>\n",
       "    </tr>\n",
       "    <tr>\n",
       "      <th>Pizza</th>\n",
       "      <td>5.32</td>\n",
       "      <td>7.54</td>\n",
       "      <td>7.78</td>\n",
       "      <td>13.09</td>\n",
       "      <td>9.41</td>\n",
       "    </tr>\n",
       "    <tr>\n",
       "      <th>Mexican</th>\n",
       "      <td>5.11</td>\n",
       "      <td>8.43</td>\n",
       "      <td>6.24</td>\n",
       "      <td>10.09</td>\n",
       "      <td>8.63</td>\n",
       "    </tr>\n",
       "    <tr>\n",
       "      <th>Latin</th>\n",
       "      <td>3.96</td>\n",
       "      <td>5.07</td>\n",
       "      <td>12.78</td>\n",
       "      <td>16.54</td>\n",
       "      <td>2.06</td>\n",
       "    </tr>\n",
       "    <tr>\n",
       "      <th>Bakery</th>\n",
       "      <td>3.58</td>\n",
       "      <td>5.78</td>\n",
       "      <td>7.21</td>\n",
       "      <td>5.59</td>\n",
       "      <td>5.10</td>\n",
       "    </tr>\n",
       "    <tr>\n",
       "      <th>French</th>\n",
       "      <td>3.49</td>\n",
       "      <td>1.25</td>\n",
       "      <td>0.39</td>\n",
       "      <td>0.06</td>\n",
       "      <td>NaN</td>\n",
       "    </tr>\n",
       "    <tr>\n",
       "      <th>Total</th>\n",
       "      <td>100.00</td>\n",
       "      <td>100.00</td>\n",
       "      <td>100.00</td>\n",
       "      <td>100.00</td>\n",
       "      <td>100.00</td>\n",
       "    </tr>\n",
       "  </tbody>\n",
       "</table>\n",
       "</div>"
      ],
      "text/plain": [
       "                     Manhattan  Brooklyn  Queens   Bronx  StatenIsland\n",
       "CUISINE DESCRIPTION                                                   \n",
       "American                 41.56     31.37   26.06   25.87         36.76\n",
       "Chinese                  10.41     21.67   25.92   19.90         14.06\n",
       "Café/Coffee/Tea           9.84      9.16    5.24    3.46          3.22\n",
       "Italian                   9.20      4.52    3.44    4.00         14.09\n",
       "Japanese                  7.53      5.21    4.93    1.40          6.67\n",
       "Pizza                     5.32      7.54    7.78   13.09          9.41\n",
       "Mexican                   5.11      8.43    6.24   10.09          8.63\n",
       "Latin                     3.96      5.07   12.78   16.54          2.06\n",
       "Bakery                    3.58      5.78    7.21    5.59          5.10\n",
       "French                    3.49      1.25    0.39    0.06           NaN\n",
       "Total                   100.00    100.00  100.00  100.00        100.00"
      ]
     },
     "execution_count": 112,
     "metadata": {},
     "output_type": "execute_result"
    }
   ],
   "source": [
    "total_per.StatenIsland = total_per.StatenIsland*100/8397\n",
    "total_per.round(2)"
   ]
  },
  {
   "cell_type": "code",
   "execution_count": 113,
   "metadata": {},
   "outputs": [
    {
     "data": {
      "image/png": "[encoded data removed]",
      "text/plain": [
       "<Figure size 432x288 with 1 Axes>"
      ]
     },
     "metadata": {
      "needs_background": "light"
     },
     "output_type": "display_data"
    }
   ],
   "source": [
    "total_plot=total_per[:-1]\n",
    "df = pd.DataFrame(total_plot)\n",
    "df=df.astype(float)\n",
    "df_plot=df.T.plot.area()\n",
    "df_plot.legend(bbox_to_anchor=(1.1, 1.05))\n",
    "plt.show()"
   ]
  },
  {
   "cell_type": "markdown",
   "metadata": {},
   "source": [
    "### Most type of the restaurant affects its popularity. Five boroughs (The Bronx, Brooklyn, Manhattan, Queens, and Staten Island) in New York City have similar results for popularity of restaurant’s types. All boroughs had American cuisine as the most popular type of restaurant. Their popularity ranks are not exactly same, but most of them are related to restaurants’ cuisines."
   ]
  },
  {
   "cell_type": "markdown",
   "metadata": {},
   "source": [
    "## 3. Can we predict rating based on the location of the restaurant?\n"
   ]
  },
  {
   "cell_type": "code",
   "execution_count": 114,
   "metadata": {
    "jupyter": {
     "outputs_hidden": true
    }
   },
   "outputs": [
    {
     "data": {
      "text/html": [
       "<div>\n",
       "<style scoped>\n",
       "    .dataframe tbody tr th:only-of-type {\n",
       "        vertical-align: middle;\n",
       "    }\n",
       "\n",
       "    .dataframe tbody tr th {\n",
       "        vertical-align: top;\n",
       "    }\n",
       "\n",
       "    .dataframe thead th {\n",
       "        text-align: right;\n",
       "    }\n",
       "</style>\n",
       "<table border=\"1\" class=\"dataframe\">\n",
       "  <thead>\n",
       "    <tr style=\"text-align: right;\">\n",
       "      <th></th>\n",
       "      <th>mean</th>\n",
       "      <th>count</th>\n",
       "      <th>std</th>\n",
       "    </tr>\n",
       "    <tr>\n",
       "      <th>CUISINE DESCRIPTION</th>\n",
       "      <th></th>\n",
       "      <th></th>\n",
       "      <th></th>\n",
       "    </tr>\n",
       "  </thead>\n",
       "  <tbody>\n",
       "    <tr>\n",
       "      <th>Czech</th>\n",
       "      <td>7.0</td>\n",
       "      <td>28</td>\n",
       "      <td>0.0</td>\n",
       "    </tr>\n",
       "    <tr>\n",
       "      <th>Basque</th>\n",
       "      <td>7.0</td>\n",
       "      <td>4</td>\n",
       "      <td>0.0</td>\n",
       "    </tr>\n",
       "    <tr>\n",
       "      <th>Nuts/Confectionary</th>\n",
       "      <td>7.0</td>\n",
       "      <td>24</td>\n",
       "      <td>0.0</td>\n",
       "    </tr>\n",
       "    <tr>\n",
       "      <th>Scandinavian</th>\n",
       "      <td>7.0</td>\n",
       "      <td>41</td>\n",
       "      <td>0.0</td>\n",
       "    </tr>\n",
       "    <tr>\n",
       "      <th>Soups</th>\n",
       "      <td>7.0</td>\n",
       "      <td>32</td>\n",
       "      <td>0.0</td>\n",
       "    </tr>\n",
       "  </tbody>\n",
       "</table>\n",
       "</div>"
      ],
      "text/plain": [
       "                     mean  count  std\n",
       "CUISINE DESCRIPTION                  \n",
       "Czech                 7.0     28  0.0\n",
       "Basque                7.0      4  0.0\n",
       "Nuts/Confectionary    7.0     24  0.0\n",
       "Scandinavian          7.0     41  0.0\n",
       "Soups                 7.0     32  0.0"
      ]
     },
     "execution_count": 114,
     "metadata": {},
     "output_type": "execute_result"
    }
   ],
   "source": [
    "grade_sub.groupby('CUISINE DESCRIPTION')['GRADE'].agg(['mean','count','std']).sort_values('mean',ascending=False).head(5)"
   ]
  },
  {
   "cell_type": "code",
   "execution_count": 115,
   "metadata": {},
   "outputs": [],
   "source": [
    "a1=grade_sub.groupby('BORO')['GRADE'].agg(['count']).sort_values('count',ascending=False).reset_index()\n",
    "a1['count']=(a1['count'])/a1['count'].sum()"
   ]
  },
  {
   "cell_type": "code",
   "execution_count": 116,
   "metadata": {},
   "outputs": [],
   "source": [
    "a2=grade_sub.groupby('GRADE')['GRADE'].agg(['count']).sort_values('count',ascending=False).reset_index()\n",
    "a2['count']=(a2['count'])/a2['count'].sum()"
   ]
  },
  {
   "cell_type": "code",
   "execution_count": 117,
   "metadata": {},
   "outputs": [
    {
     "data": {
      "text/plain": [
       "<seaborn.axisgrid.FacetGrid at 0x1a4a20feb8>"
      ]
     },
     "execution_count": 117,
     "metadata": {},
     "output_type": "execute_result"
    },
    {
     "data": {
      "image/png": "[encoded data removed]",
      "text/plain": [
       "<Figure size 360x360 with 1 Axes>"
      ]
     },
     "metadata": {
      "needs_background": "light"
     },
     "output_type": "display_data"
    }
   ],
   "source": [
    "sns.catplot(x='BORO',y='count',kind='bar', data=a1)"
   ]
  },
  {
   "cell_type": "code",
   "execution_count": 118,
   "metadata": {},
   "outputs": [
    {
     "data": {
      "text/plain": [
       "<seaborn.axisgrid.FacetGrid at 0x1a4b8af748>"
      ]
     },
     "execution_count": 118,
     "metadata": {},
     "output_type": "execute_result"
    },
    {
     "data": {
      "image/png": "[encoded data removed]",
      "text/plain": [
       "<Figure size 360x360 with 1 Axes>"
      ]
     },
     "metadata": {
      "needs_background": "light"
     },
     "output_type": "display_data"
    }
   ],
   "source": [
    "sns.catplot(x='GRADE',y='count',kind='bar', data=a2)"
   ]
  },
  {
   "cell_type": "code",
   "execution_count": 119,
   "metadata": {},
   "outputs": [
    {
     "data": {
      "text/html": [
       "<div>\n",
       "<style scoped>\n",
       "    .dataframe tbody tr th:only-of-type {\n",
       "        vertical-align: middle;\n",
       "    }\n",
       "\n",
       "    .dataframe tbody tr th {\n",
       "        vertical-align: top;\n",
       "    }\n",
       "\n",
       "    .dataframe thead th {\n",
       "        text-align: right;\n",
       "    }\n",
       "</style>\n",
       "<table border=\"1\" class=\"dataframe\">\n",
       "  <thead>\n",
       "    <tr style=\"text-align: right;\">\n",
       "      <th></th>\n",
       "      <th>mean</th>\n",
       "      <th>count</th>\n",
       "      <th>std</th>\n",
       "    </tr>\n",
       "    <tr>\n",
       "      <th>BORO</th>\n",
       "      <th></th>\n",
       "      <th></th>\n",
       "      <th></th>\n",
       "    </tr>\n",
       "  </thead>\n",
       "  <tbody>\n",
       "    <tr>\n",
       "      <th>Staten Island</th>\n",
       "      <td>6.683814</td>\n",
       "      <td>6765</td>\n",
       "      <td>0.796269</td>\n",
       "    </tr>\n",
       "    <tr>\n",
       "      <th>Manhattan</th>\n",
       "      <td>6.635894</td>\n",
       "      <td>78219</td>\n",
       "      <td>0.862866</td>\n",
       "    </tr>\n",
       "    <tr>\n",
       "      <th>Queens</th>\n",
       "      <td>6.614701</td>\n",
       "      <td>46229</td>\n",
       "      <td>0.913507</td>\n",
       "    </tr>\n",
       "    <tr>\n",
       "      <th>Brooklyn</th>\n",
       "      <td>6.610028</td>\n",
       "      <td>50437</td>\n",
       "      <td>0.904697</td>\n",
       "    </tr>\n",
       "    <tr>\n",
       "      <th>Bronx</th>\n",
       "      <td>6.585610</td>\n",
       "      <td>18596</td>\n",
       "      <td>0.880145</td>\n",
       "    </tr>\n",
       "    <tr>\n",
       "      <th>0</th>\n",
       "      <td>6.562500</td>\n",
       "      <td>48</td>\n",
       "      <td>0.711793</td>\n",
       "    </tr>\n",
       "  </tbody>\n",
       "</table>\n",
       "</div>"
      ],
      "text/plain": [
       "                   mean  count       std\n",
       "BORO                                    \n",
       "Staten Island  6.683814   6765  0.796269\n",
       "Manhattan      6.635894  78219  0.862866\n",
       "Queens         6.614701  46229  0.913507\n",
       "Brooklyn       6.610028  50437  0.904697\n",
       "Bronx          6.585610  18596  0.880145\n",
       "0              6.562500     48  0.711793"
      ]
     },
     "execution_count": 119,
     "metadata": {},
     "output_type": "execute_result"
    }
   ],
   "source": [
    "grade_sub.groupby('BORO')['GRADE'].agg(['mean','count','std']).sort_values('mean',ascending=False)"
   ]
  },
  {
   "cell_type": "code",
   "execution_count": 120,
   "metadata": {},
   "outputs": [
    {
     "data": {
      "text/plain": [
       "<matplotlib.axes._subplots.AxesSubplot at 0x1a3f55d9b0>"
      ]
     },
     "execution_count": 120,
     "metadata": {},
     "output_type": "execute_result"
    },
    {
     "data": {
      "image/png": "[encoded data removed]",
      "text/plain": [
       "<Figure size 432x288 with 1 Axes>"
      ]
     },
     "metadata": {
      "needs_background": "light"
     },
     "output_type": "display_data"
    }
   ],
   "source": [
    "sns.violinplot(y='GRADE', x='BORO', data=grade_sub)"
   ]
  },
  {
   "cell_type": "markdown",
   "metadata": {},
   "source": [
    "### Location of the restaurant does not have a mutual relationship with restaurants’ rating. When comparing means of each borough’s grade, all boroughs have very close numbers. Brooklyn has the highest grade in New York City while Manhattan has the largest number of restaurants. Based on the location, we only can predict the number of the restaurants, not rating.​"
   ]
  },
  {
   "cell_type": "markdown",
   "metadata": {},
   "source": [
    "## 4. Does borough and type of violation has a relationship?\n"
   ]
  },
  {
   "cell_type": "code",
   "execution_count": 121,
   "metadata": {},
   "outputs": [
    {
     "data": {
      "image/png": "[encoded data removed]",
      "text/plain": [
       "<Figure size 432x288 with 2 Axes>"
      ]
     },
     "metadata": {
      "needs_background": "light"
     },
     "output_type": "display_data"
    }
   ],
   "source": [
    "ax = sns.heatmap(violation_total, cmap=\"YlGnBu\")"
   ]
  },
  {
   "cell_type": "markdown",
   "metadata": {},
   "source": [
    "### Based on the analysis we performed, no relationship between borough and type of violation were detected. The most popular violation type for all boroughs is 'Unacceptable materials used'. Even though there is some variety from borough to borough in types of violation, there is the common group of popular violations for all restaurants. "
   ]
  },
  {
   "cell_type": "markdown",
   "metadata": {},
   "source": [
    "# Additional Question"
   ]
  },
  {
   "cell_type": "markdown",
   "metadata": {},
   "source": [
    "## Is there relationship between grade of the inspection and average income per borough?\n"
   ]
  },
  {
   "cell_type": "code",
   "execution_count": 122,
   "metadata": {},
   "outputs": [],
   "source": [
    "income = pd.read_csv(\"https://www.census.gov/quickfacts/fact/csv/newyorkcountymanhattanboroughnewyork,bronxcountybronxboroughnewyork,queenscountyqueensboroughnewyork,kingscountybrooklynboroughnewyork,richmondcountystatenislandboroughnewyork,newyorkcitynewyork/PST120218\")"
   ]
  },
  {
   "cell_type": "code",
   "execution_count": 123,
   "metadata": {},
   "outputs": [],
   "source": [
    "income_t = income.set_index(['Fact']).transpose()"
   ]
  },
  {
   "cell_type": "code",
   "execution_count": 124,
   "metadata": {
    "jupyter": {
     "outputs_hidden": true
    }
   },
   "outputs": [
    {
     "data": {
      "text/html": [
       "<div>\n",
       "<style scoped>\n",
       "    .dataframe tbody tr th:only-of-type {\n",
       "        vertical-align: middle;\n",
       "    }\n",
       "\n",
       "    .dataframe tbody tr th {\n",
       "        vertical-align: top;\n",
       "    }\n",
       "\n",
       "    .dataframe thead th {\n",
       "        text-align: right;\n",
       "    }\n",
       "</style>\n",
       "<table border=\"1\" class=\"dataframe\">\n",
       "  <thead>\n",
       "    <tr style=\"text-align: right;\">\n",
       "      <th></th>\n",
       "      <th>Median household income (in 2017 dollars), 2013-2017</th>\n",
       "      <th>BORO</th>\n",
       "    </tr>\n",
       "  </thead>\n",
       "  <tbody>\n",
       "    <tr>\n",
       "      <th>0</th>\n",
       "      <td>NaN</td>\n",
       "      <td>Fact Note</td>\n",
       "    </tr>\n",
       "    <tr>\n",
       "      <th>1</th>\n",
       "      <td>$79,781</td>\n",
       "      <td>New York County (Manhattan Borough), New York</td>\n",
       "    </tr>\n",
       "    <tr>\n",
       "      <th>2</th>\n",
       "      <td>NaN</td>\n",
       "      <td>Value Note for New York County (Manhattan Boro...</td>\n",
       "    </tr>\n",
       "    <tr>\n",
       "      <th>3</th>\n",
       "      <td>$36,593</td>\n",
       "      <td>Bronx County (Bronx Borough), New York</td>\n",
       "    </tr>\n",
       "    <tr>\n",
       "      <th>4</th>\n",
       "      <td>NaN</td>\n",
       "      <td>Value Note for Bronx County (Bronx Borough), N...</td>\n",
       "    </tr>\n",
       "    <tr>\n",
       "      <th>5</th>\n",
       "      <td>$62,008</td>\n",
       "      <td>Queens County (Queens Borough), New York</td>\n",
       "    </tr>\n",
       "    <tr>\n",
       "      <th>6</th>\n",
       "      <td>NaN</td>\n",
       "      <td>Value Note for Queens County (Queens Borough),...</td>\n",
       "    </tr>\n",
       "    <tr>\n",
       "      <th>7</th>\n",
       "      <td>$52,782</td>\n",
       "      <td>Kings County (Brooklyn Borough), New York</td>\n",
       "    </tr>\n",
       "    <tr>\n",
       "      <th>8</th>\n",
       "      <td>NaN</td>\n",
       "      <td>Value Note for Kings County (Brooklyn Borough)...</td>\n",
       "    </tr>\n",
       "    <tr>\n",
       "      <th>9</th>\n",
       "      <td>$76,244</td>\n",
       "      <td>Richmond County (Staten Island Borough), New York</td>\n",
       "    </tr>\n",
       "    <tr>\n",
       "      <th>10</th>\n",
       "      <td>NaN</td>\n",
       "      <td>Value Note for Richmond County (Staten Island ...</td>\n",
       "    </tr>\n",
       "    <tr>\n",
       "      <th>11</th>\n",
       "      <td>$57,782</td>\n",
       "      <td>New York city, New York</td>\n",
       "    </tr>\n",
       "    <tr>\n",
       "      <th>12</th>\n",
       "      <td>NaN</td>\n",
       "      <td>Value Note for New York city, New York</td>\n",
       "    </tr>\n",
       "  </tbody>\n",
       "</table>\n",
       "</div>"
      ],
      "text/plain": [
       "   Median household income (in 2017 dollars), 2013-2017  \\\n",
       "0                                                 NaN     \n",
       "1                                             $79,781     \n",
       "2                                                 NaN     \n",
       "3                                             $36,593     \n",
       "4                                                 NaN     \n",
       "5                                             $62,008     \n",
       "6                                                 NaN     \n",
       "7                                             $52,782     \n",
       "8                                                 NaN     \n",
       "9                                             $76,244     \n",
       "10                                                NaN     \n",
       "11                                            $57,782     \n",
       "12                                                NaN     \n",
       "\n",
       "                                                 BORO  \n",
       "0                                           Fact Note  \n",
       "1       New York County (Manhattan Borough), New York  \n",
       "2   Value Note for New York County (Manhattan Boro...  \n",
       "3              Bronx County (Bronx Borough), New York  \n",
       "4   Value Note for Bronx County (Bronx Borough), N...  \n",
       "5            Queens County (Queens Borough), New York  \n",
       "6   Value Note for Queens County (Queens Borough),...  \n",
       "7           Kings County (Brooklyn Borough), New York  \n",
       "8   Value Note for Kings County (Brooklyn Borough)...  \n",
       "9   Richmond County (Staten Island Borough), New York  \n",
       "10  Value Note for Richmond County (Staten Island ...  \n",
       "11                            New York city, New York  \n",
       "12             Value Note for New York city, New York  "
      ]
     },
     "execution_count": 124,
     "metadata": {},
     "output_type": "execute_result"
    }
   ],
   "source": [
    "income_t = income_t['Median household income (in 2017 dollars), 2013-2017'].to_frame()\n",
    "income_t['BORO'] = income_t.index\n",
    "income_t.reset_index(drop=True)"
   ]
  },
  {
   "cell_type": "code",
   "execution_count": 125,
   "metadata": {},
   "outputs": [],
   "source": [
    "income_t = income_t.dropna()\n",
    "income_boro = {}\n",
    "for j in grade_sub['BORO'].unique():\n",
    "    for i, k in income_t.iterrows():\n",
    "        if j in k['BORO']:\n",
    "            income_boro[j]=int(k['Median household income (in 2017 dollars), 2013-2017'][1:].replace(\",\", \"\"))"
   ]
  },
  {
   "cell_type": "code",
   "execution_count": 126,
   "metadata": {
    "jupyter": {
     "outputs_hidden": true
    }
   },
   "outputs": [
    {
     "data": {
      "text/plain": [
       "{'Manhattan': 79781,\n",
       " 'Queens': 62008,\n",
       " 'Brooklyn': 52782,\n",
       " 'Bronx': 36593,\n",
       " 'Staten Island': 76244}"
      ]
     },
     "execution_count": 126,
     "metadata": {},
     "output_type": "execute_result"
    }
   ],
   "source": [
    "income_boro"
   ]
  },
  {
   "cell_type": "code",
   "execution_count": 127,
   "metadata": {},
   "outputs": [],
   "source": [
    "income_boro_df = pd.DataFrame({\"INCOME\":income_boro})\n",
    "income_boro_df['BORO'] = income_boro_df.index\n",
    "new_df = pd.merge(grade_sub, income_boro_df, on=\"BORO\")"
   ]
  },
  {
   "cell_type": "code",
   "execution_count": 128,
   "metadata": {},
   "outputs": [],
   "source": [
    "top_cuisine_with_score = grade_sub.groupby('BORO')['GRADE'].agg(['mean','count','std']).sort_values('mean',ascending=False)\n",
    "top_cuisine_with_score.reset_index(level=0, inplace=True)\n",
    "top_cuisine_with_score['BORO'][5] = \"N/A\"\n"
   ]
  },
  {
   "cell_type": "code",
   "execution_count": 129,
   "metadata": {},
   "outputs": [],
   "source": [
    "top_cuisine_with_score_w_income = pd.merge(top_cuisine_with_score, income_boro_df, on=\"BORO\")"
   ]
  },
  {
   "cell_type": "code",
   "execution_count": 130,
   "metadata": {},
   "outputs": [
    {
     "data": {
      "text/plain": [
       "<seaborn.axisgrid.FacetGrid at 0x11e4b2ba8>"
      ]
     },
     "execution_count": 130,
     "metadata": {},
     "output_type": "execute_result"
    },
    {
     "data": {
      "image/png": "[encoded data removed]",
      "text/plain": [
       "<Figure size 360x360 with 1 Axes>"
      ]
     },
     "metadata": {
      "needs_background": "light"
     },
     "output_type": "display_data"
    }
   ],
   "source": [
    "sns.relplot(x='BORO', y='INCOME', kind='line', data=top_cuisine_with_score_w_income)"
   ]
  },
  {
   "cell_type": "code",
   "execution_count": 131,
   "metadata": {},
   "outputs": [
    {
     "data": {
      "text/plain": [
       "<seaborn.axisgrid.FacetGrid at 0x1a3d197c18>"
      ]
     },
     "execution_count": 131,
     "metadata": {},
     "output_type": "execute_result"
    },
    {
     "data": {
      "image/png": "[encoded data removed]",
      "text/plain": [
       "<Figure size 360x360 with 1 Axes>"
      ]
     },
     "metadata": {
      "needs_background": "light"
     },
     "output_type": "display_data"
    }
   ],
   "source": [
    "sns.relplot(x='BORO', y='mean', kind='line',data=top_cuisine_with_score_w_income)"
   ]
  },
  {
   "cell_type": "markdown",
   "metadata": {},
   "source": [
    "\n",
    "### There is no clear relationship between grade of the inspection and average income per borough. Bronx and Staten Island have negative raletionship while Manhattan has positive relashionship between its average grade of inspectatin and average income. "
   ]
  },
  {
   "cell_type": "code",
   "execution_count": null,
   "metadata": {},
   "outputs": [],
   "source": []
  }
 ],
 "metadata": {
  "kernelspec": {
   "display_name": "Python 3",
   "language": "python",
   "name": "python3"
  },
  "language_info": {
   "codemirror_mode": {
    "name": "ipython",
    "version": 3
   },
   "file_extension": ".py",
   "mimetype": "text/x-python",
   "name": "python",
   "nbconvert_exporter": "python",
   "pygments_lexer": "ipython3",
   "version": "3.7.3"
  }
 },
 "nbformat": 4,
 "nbformat_minor": 4
}
